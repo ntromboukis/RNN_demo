{
 "cells": [
  {
   "cell_type": "markdown",
   "metadata": {},
   "source": [
    "# Heater example"
   ]
  },
  {
   "cell_type": "code",
   "execution_count": 1,
   "metadata": {
    "collapsed": true
   },
   "outputs": [],
   "source": [
    "# lets define some recursive sequences\n",
    "import numpy as np\n",
    "import matplotlib.pyplot as plt"
   ]
  },
  {
   "cell_type": "code",
   "execution_count": 2,
   "metadata": {
    "collapsed": false
   },
   "outputs": [
    {
     "name": "stderr",
     "output_type": "stream",
     "text": [
      "Using TensorFlow backend.\n"
     ]
    }
   ],
   "source": [
    "# imports - libraries and RNN settings\n",
    "import numpy as np\n",
    "import matplotlib.pyplot as plt\n",
    "# import keras network libraries\n",
    "from keras.models import Sequential\n",
    "from keras.layers import Dense\n",
    "from keras.layers import LSTM\n",
    "import keras\n",
    "\n",
    "# given - fix random seed - so we can all reproduce the same results on our default time series\n",
    "# np.random.seed(2)\n",
    "\n",
    "# given - build model\n",
    "optimizer = keras.optimizers.RMSprop(lr=0.001, rho=0.9, epsilon=1e-08, decay=0.0)"
   ]
  },
  {
   "cell_type": "code",
   "execution_count": 3,
   "metadata": {
    "collapsed": false
   },
   "outputs": [],
   "source": [
    "# load in data\n",
    "input_sequence = np.loadtxt('datasets/binary_voltage.csv')\n",
    "output_sequence = np.loadtxt('datasets/hidden_voltage.csv')"
   ]
  },
  {
   "cell_type": "code",
   "execution_count": 98,
   "metadata": {
    "collapsed": false
   },
   "outputs": [
    {
     "data": {
      "text/plain": [
       "[<matplotlib.lines.Line2D at 0x7f1e4e083150>]"
      ]
     },
     "execution_count": 98,
     "metadata": {},
     "output_type": "execute_result"
    },
    {
     "data": {
      "image/png": "[encoded data removed]",
      "text/plain": [
       "<matplotlib.figure.Figure at 0x7f1e4e083290>"
      ]
     },
     "metadata": {},
     "output_type": "display_data"
    }
   ],
   "source": [
    "### take subsequences of both, and center\n",
    "# for sub_sequence binarize to +/-1\n",
    "num_pts = 100\n",
    "input_sequence = input_sequence[:num_pts]\n",
    "u = np.unique(input_sequence)\n",
    "ind = np.argwhere(input_sequence==u[0])\n",
    "ind = [s[0] for s in ind]\n",
    "ind2 = np.argwhere(input_sequence==u[1])\n",
    "ind2 = [s[0] for s in ind2]\n",
    "input_sequence[ind] = -1\n",
    "input_sequence[ind2] = 1\n",
    "input_sequence.shape = (len(input_sequence),1)\n",
    "\n",
    "# for hidden just normalize - subtract mean and normalize to lie in range [-1,1]\n",
    "output_sequence = output_sequence[:num_pts]\n",
    "output_sequence = (output_sequence - np.mean(output_sequence))\n",
    "output_sequence = output_sequence/float(np.abs(np.max(output_sequence)))\n",
    "\n",
    "# output_sequence.shape = (len(output_sequence),1)\n",
    "\n",
    "# plot both\n",
    "plt.scatter(np.arange(len(input_sequence)),input_sequence)\n",
    "plt.plot(output_sequence,c = 'r')"
   ]
  },
  {
   "cell_type": "markdown",
   "metadata": {},
   "source": [
    "## Universal functions for experiments"
   ]
  },
  {
   "cell_type": "code",
   "execution_count": 5,
   "metadata": {
    "collapsed": true
   },
   "outputs": [],
   "source": [
    "def window(input_sequence,output_sequence,window_size):\n",
    "    # containers for input/output pairs\n",
    "    x = []\n",
    "    y = []\n",
    "    \n",
    "    # window data\n",
    "    count = 0\n",
    "    for t in range(len(input_sequence) - window_size):\n",
    "        # get input sequence\n",
    "        temp_in = input_sequence[t:t + window_size]\n",
    "        x.append(temp_in)\n",
    "        \n",
    "        # get corresponding target\n",
    "        temp_target = output_sequence[t + window_size]\n",
    "        y.append(temp_target)\n",
    "        count+=1\n",
    "        \n",
    "    # reshape each \n",
    "    x = np.asarray(x)\n",
    "    x.shape = (np.shape(x)[0:2])\n",
    "    y = np.asarray(y)\n",
    "    y.shape = (len(y),)\n",
    "    \n",
    "    return x,y"
   ]
  },
  {
   "cell_type": "code",
   "execution_count": 134,
   "metadata": {
    "collapsed": false
   },
   "outputs": [],
   "source": [
    "window_size = 10\n",
    "x,y = window(input_sequence,output_sequence,window_size)"
   ]
  },
  {
   "cell_type": "code",
   "execution_count": 118,
   "metadata": {
    "collapsed": true
   },
   "outputs": [],
   "source": [
    "x = np.reshape(x, (x.shape[0], 1, x.shape[1]))"
   ]
  },
  {
   "cell_type": "markdown",
   "metadata": {},
   "source": [
    "## Just markov"
   ]
  },
  {
   "cell_type": "code",
   "execution_count": 135,
   "metadata": {
    "collapsed": true
   },
   "outputs": [],
   "source": [
    "# imports - libraries and RNN settings\n",
    "import numpy as np\n",
    "import matplotlib.pyplot as plt\n",
    "# import keras network libraries\n",
    "from keras.models import Sequential\n",
    "from keras.layers import Dense\n",
    "from keras.layers import LSTM\n",
    "from keras.layers import SimpleRNN\n",
    "from keras.layers import Activation\n",
    "\n",
    "import keras\n",
    "\n",
    "# given - fix random seed - so we can all reproduce the same results on our default time series\n",
    "np.random.seed(2)\n",
    "\n",
    "# given - build model\n",
    "optimizer = keras.optimizers.RMSprop(lr=0.001, rho=0.9, epsilon=1e-08, decay=0.0)"
   ]
  },
  {
   "cell_type": "code",
   "execution_count": 136,
   "metadata": {
    "collapsed": false
   },
   "outputs": [],
   "source": [
    "# create and fit the LSTM network\n",
    "model = Sequential()\n",
    "# model.add(SimpleRNN(1, input_shape=(1, window_size),activation = 'relu'))\n",
    "model.add(Dense(1,input_dim = window_size, activation='linear'))\n",
    "model.add(Dense(1,activation='linear'))\n",
    "model.compile(loss='mean_squared_error', optimizer=optimizer)"
   ]
  },
  {
   "cell_type": "code",
   "execution_count": 137,
   "metadata": {
    "collapsed": false
   },
   "outputs": [
    {
     "data": {
      "text/plain": [
       "<keras.callbacks.History at 0x7f1e4cb4a5d0>"
      ]
     },
     "execution_count": 137,
     "metadata": {},
     "output_type": "execute_result"
    }
   ],
   "source": [
    "# run your model\n",
    "model.fit(x, y, epochs=500, batch_size=24, verbose=0)"
   ]
  },
  {
   "cell_type": "code",
   "execution_count": 138,
   "metadata": {
    "collapsed": false
   },
   "outputs": [
    {
     "data": {
      "text/plain": [
       "<matplotlib.collections.PathCollection at 0x7f1e4ca4cd90>"
      ]
     },
     "execution_count": 138,
     "metadata": {},
     "output_type": "execute_result"
    },
    {
     "data": {
      "image/png": "[encoded data removed]",
      "text/plain": [
       "<matplotlib.figure.Figure at 0x7f1e4e1df490>"
      ]
     },
     "metadata": {},
     "output_type": "display_data"
    }
   ],
   "source": [
    "# generate predictions for training\n",
    "train_predict = model.predict(x)\n",
    "\n",
    "# plot original and prediction\n",
    "plt.plot(output_sequence,c = 'r')\n",
    "plt.plot(np.arange(len(train_predict))+window_size,train_predict,c = 'b')\n",
    "plt.scatter(np.arange(len(input_sequence))+1,input_sequence,c = 'g')"
   ]
  },
  {
   "cell_type": "code",
   "execution_count": null,
   "metadata": {
    "collapsed": true
   },
   "outputs": [],
   "source": []
  }
 ],
 "metadata": {
  "kernelspec": {
   "display_name": "Python 2",
   "language": "python",
   "name": "python2"
  },
  "language_info": {
   "codemirror_mode": {
    "name": "ipython",
    "version": 2
   },
   "file_extension": ".py",
   "mimetype": "text/x-python",
   "name": "python",
   "nbconvert_exporter": "python",
   "pygments_lexer": "ipython2",
   "version": "2.7.12"
  }
 },
 "nbformat": 4,
 "nbformat_minor": 0
}
