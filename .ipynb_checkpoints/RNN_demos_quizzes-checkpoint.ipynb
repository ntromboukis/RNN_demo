{
 "cells": [
  {
   "cell_type": "markdown",
   "metadata": {},
   "source": [
    "# DEMO 1, QUIZ 2 UTILITY FUNCTIONS"
   ]
  },
  {
   "cell_type": "code",
   "execution_count": 1,
   "metadata": {
    "collapsed": false
   },
   "outputs": [],
   "source": [
    "# window sequences to produce input/output data\n",
    "def window_transform(sequence,window_size):\n",
    "    # containers for input/output pairs\n",
    "    X = []\n",
    "    y = []\n",
    "    \n",
    "    # window data\n",
    "    count = 0\n",
    "    for t in range(len(sequence) - window_size):\n",
    "        # get input sequence\n",
    "        temp_in = sequence[t:t + window_size]\n",
    "        X.append(temp_in)\n",
    "        \n",
    "        # get corresponding target\n",
    "        temp_target = sequence[t + window_size]\n",
    "        y.append(temp_target)\n",
    "        count+=1\n",
    "        \n",
    "    # reshape each \n",
    "    X = np.asarray(X)\n",
    "    X.shape = (np.shape(X)[0:2])\n",
    "    y = np.asarray(y)\n",
    "    y.shape = (len(y),)\n",
    "    \n",
    "    return X,y"
   ]
  },
  {
   "cell_type": "code",
   "execution_count": 4,
   "metadata": {
    "collapsed": true
   },
   "outputs": [],
   "source": [
    "def generative_predictions(model,s_input,num_predictions): \n",
    "    testing_predictions = []\n",
    "    for t in range(num_predictions):            \n",
    "        s_input = np.asarray(s_input)\n",
    "        s_input = np.expand_dims(s_input, axis=0)\n",
    "\n",
    "        # compute and store prediction\n",
    "        pred = model.predict(s_input)\n",
    "        testing_predictions.append(pred[0])\n",
    "\n",
    "        # kick out last entry in y_input and insert most recent prediction at front\n",
    "        s_input = s_input[1:]\n",
    "        s_input = np.append(s_input,pred)\n",
    "    return testing_predictions"
   ]
  },
  {
   "cell_type": "code",
   "execution_count": 2,
   "metadata": {
    "collapsed": false
   },
   "outputs": [
    {
     "name": "stderr",
     "output_type": "stream",
     "text": [
      "Using TensorFlow backend.\n"
     ]
    }
   ],
   "source": [
    "import numpy as np\n",
    "import matplotlib.pyplot as plt\n",
    "from keras.models import Sequential\n",
    "from keras.layers import Dense\n",
    "import keras\n",
    "\n",
    "# given - fix random seed - so we can all reproduce the same results on our default time series\n",
    "np.random.seed(2)\n",
    "\n",
    "# given - build model\n",
    "optimizer = keras.optimizers.RMSprop(lr=0.001, rho=0.9, epsilon=1e-08, decay=0.0)"
   ]
  },
  {
   "cell_type": "markdown",
   "metadata": {},
   "source": [
    "# DEMO 1:  Odd number generation using FNN"
   ]
  },
  {
   "cell_type": "code",
   "execution_count": 18,
   "metadata": {
    "collapsed": false
   },
   "outputs": [
    {
     "name": "stdout",
     "output_type": "stream",
     "text": [
      "[1, 3, 5, 7, 9, 11, 13, 15]\n"
     ]
    }
   ],
   "source": [
    "# build odd number sequence\n",
    "s_1 = 1\n",
    "num_its = 7\n",
    "odd_num_sequence = []\n",
    "odd_num_sequence.append(s_1)\n",
    "for k in range(num_its):\n",
    "    s_t_1 = odd_num_sequence[-1]\n",
    "    s_t = s_t_1 + 2\n",
    "    odd_num_sequence.append(s_t)\n",
    "print odd_num_sequence  "
   ]
  },
  {
   "cell_type": "code",
   "execution_count": 7,
   "metadata": {
    "collapsed": false
   },
   "outputs": [],
   "source": [
    "# window the sequence\n",
    "odd_num_window_size = 1\n",
    "X_odd_nums,y_odd_nums = window_transform_series(odd_num_sequence,window_size=odd_num_window_size)"
   ]
  },
  {
   "cell_type": "code",
   "execution_count": 8,
   "metadata": {
    "collapsed": false
   },
   "outputs": [],
   "source": [
    "# build FNN to perform regression on our input/output data\n",
    "odd_num_model = Sequential()\n",
    "layer = Dense(1, input_dim=odd_num_window_size, activation='linear')\n",
    "odd_num_model.add(layer)\n",
    "odd_num_model.compile(loss='mean_squared_error', optimizer=optimizer)\n",
    "\n",
    "# run the model\n",
    "odd_num_model.fit(X_odd_nums, y_odd_nums, nb_epoch=1000, batch_size=2, verbose=0)\n",
    "\n",
    "# generate predictions for training sequence of odd numbers\n",
    "train_predict = odd_num_model.predict(X_odd_nums)\n",
    "\n",
    "# print the training data and predictions on training data\n",
    "print X_odd_nums\n",
    "print train_predict"
   ]
  },
  {
   "cell_type": "code",
   "execution_count": 10,
   "metadata": {
    "collapsed": true
   },
   "outputs": [],
   "source": [
    "# print the learned weights - they look quite similar to the original model!\n",
    "odd_num_model.get_weights()"
   ]
  },
  {
   "cell_type": "code",
   "execution_count": 11,
   "metadata": {
    "collapsed": false
   },
   "outputs": [
    {
     "name": "stdout",
     "output_type": "stream",
     "text": [
      "[[ 1]\n",
      " [ 3]\n",
      " [ 5]\n",
      " [ 7]\n",
      " [ 9]\n",
      " [11]\n",
      " [13]]\n",
      "[[  3.00071263]\n",
      " [  5.00029325]\n",
      " [  6.99987411]\n",
      " [  8.9994545 ]\n",
      " [ 10.99903488]\n",
      " [ 12.99861526]\n",
      " [ 14.99819565]]\n"
     ]
    }
   ],
   "source": [
    "# use learned regressor as generative model\n",
    "my_num = 10\n",
    "odd_num_predictions = generative_predictions(model = odd_num_model,s_input = odd_num_sequence[-1],num_predictions = my_num)\n",
    "\n",
    "# print generative predictions\n",
    "print np.expand_dims(odd_num_predictions,axis = 0)"
   ]
  },
  {
   "cell_type": "markdown",
   "metadata": {},
   "source": [
    "# QUIZ 2: Recovering complex recursive sequence"
   ]
  },
  {
   "cell_type": "code",
   "execution_count": 26,
   "metadata": {
    "collapsed": false
   },
   "outputs": [
    {
     "data": {
      "image/png": "[encoded data removed]",
      "text/plain": [
       "<matplotlib.figure.Figure at 0x11287df50>"
      ]
     },
     "metadata": {},
     "output_type": "display_data"
    }
   ],
   "source": [
    "### Codeblock used to generate complicated sequence\n",
    "import numpy as np\n",
    "import matplotlib.pyplot as plt\n",
    "s_1 = 0\n",
    "s_2 = -11\n",
    "\n",
    "# container for sequence\n",
    "complex_sequence=[]\n",
    "complex_sequence.append(s_1)\n",
    "complex_sequence.append(s_2)\n",
    "\n",
    "# loop through 50 times creating sequence elements\n",
    "for t in range(50):\n",
    "    s_t_minus_1 = complex_sequence[-1]\n",
    "    s_t_minus_2 = complex_sequence[-2]\n",
    "    s_t = 2 + np.maximum(0,2 - 4*s_t_minus_1 + s_t_minus_2)\n",
    "    complex_sequence.append(s_t)\n",
    "\n",
    "# plot the sequence \n",
    "sgap = 0.1*(max(complex_sequence)-min(complex_sequence))\n",
    "fig = plt.figure(figsize = (10,4))\n",
    "ax = fig.add_subplot(121)\n",
    "ax.plot(np.arange(len(complex_sequence)),complex_sequence)\n",
    "ax.set_xlim([-1,len(complex_sequence)+1])\n",
    "ax.set_ylim([min(complex_sequence)-sgap,max(complex_sequence)+sgap])\n",
    "ax.set_xlabel('step')\n",
    "ax.set_ylabel('value')\n",
    "ax.set_title('(interpolated) plot of sequence')\n",
    "\n",
    "ax = fig.add_subplot(122)\n",
    "ax.scatter(np.arange(len(complex_sequence)),complex_sequence)\n",
    "ax.set_xlabel('step')\n",
    "ax.set_ylabel('value')\n",
    "ax.set_xlim([-1,len(complex_sequence)+1])\n",
    "ax.set_ylim([min(complex_sequence)-sgap,max(complex_sequence)+sgap])\n",
    "ax.set_title('scatter plot of sequence')\n",
    "plt.show()"
   ]
  },
  {
   "cell_type": "code",
   "execution_count": 17,
   "metadata": {
    "collapsed": true
   },
   "outputs": [],
   "source": [
    "# window the sequence to create input/output pairs\n",
    "comoplex_num_window_size = 2\n",
    "X_complex,y_complex = window_transform_series(complex_sequence,window_size=comoplex_num_window_size)"
   ]
  },
  {
   "cell_type": "code",
   "execution_count": 18,
   "metadata": {
    "collapsed": false
   },
   "outputs": [],
   "source": [
    "# create model\n",
    "complex_model = Sequential()\n",
    "complex_model.add(Dense(1, input_dim=comoplex_num_window_size, activation='relu'))\n",
    "complex_model.add(Dense(1,activation='linear'))\n",
    "complex_model.compile(loss='mean_squared_error', optimizer=optimizer)\n",
    "\n",
    "# fit model\n",
    "complex_model.fit(X_complex, y_complex, nb_epoch=5000, batch_size=12, verbose=0)"
   ]
  },
  {
   "cell_type": "code",
   "execution_count": 20,
   "metadata": {
    "collapsed": false
   },
   "outputs": [
    {
     "name": "stdout",
     "output_type": "stream",
     "text": [
      "[[ 0.45337397]\n",
      " [-1.81397212]]\n",
      "[ 0.90436655]\n",
      "-----------\n",
      "[[ 2.20539188]]\n",
      "[ 1.99822569]\n"
     ]
    }
   ],
   "source": [
    "# print out the weights and biases of trained model - notice they don't match the original generating model!  Yet our trained model still fits the data well. \n",
    "weights = complex_model.layers[0].get_weights()[0]\n",
    "biases = complex_model.layers[0].get_weights()[1]\n",
    "print weights\n",
    "print biases\n",
    "print '-----------'\n",
    "weights = complex_model.layers[1].get_weights()[0]\n",
    "biases = complex_model.layers[1].get_weights()[1]\n",
    "print weights\n",
    "print biases"
   ]
  },
  {
   "cell_type": "code",
   "execution_count": 21,
   "metadata": {
    "collapsed": true
   },
   "outputs": [],
   "source": [
    "# Make predictions on training set\n",
    "train_predict = complex_model.predict(X_complex)"
   ]
  },
  {
   "cell_type": "code",
   "execution_count": 22,
   "metadata": {
    "collapsed": false
   },
   "outputs": [
    {
     "data": {
      "image/png": "[encoded data removed]",
      "text/plain": [
       "<matplotlib.figure.Figure at 0x111d0bdd0>"
      ]
     },
     "metadata": {},
     "output_type": "display_data"
    }
   ],
   "source": [
    "# plot original sequence and fit \n",
    "plt.plot(np.arange(len(complex_sequence)),complex_sequence)\n",
    "plt.plot(np.arange(comoplex_num_window_size,len(complex_sequence)),train_predict)\n",
    "plt.show()"
   ]
  },
  {
   "cell_type": "markdown",
   "metadata": {},
   "source": [
    "# DEMO 2: learning transition probabilities of a binary markov sequence using logistic regression"
   ]
  },
  {
   "cell_type": "code",
   "execution_count": 26,
   "metadata": {
    "collapsed": true
   },
   "outputs": [],
   "source": [
    "# generate binary markov sequence of order 1\n",
    "def binary_markov_maker(num_elements):\n",
    "    # transition probabilities\n",
    "    p00 = 0.6\n",
    "    p01 = 0.4\n",
    "    p10 = 0.2\n",
    "    p11 = 0.8\n",
    "\n",
    "    # generate sequence of desired length using transition probabilities\n",
    "    binary_seq = [0]\n",
    "    for i in range(num_elements):\n",
    "        # generate random number for transition\n",
    "        r = np.random.rand(1)\n",
    "        \n",
    "        # grab last element of sequence\n",
    "        s_old = binary_seq[-1]\n",
    "        \n",
    "        # transition based on last element of sequence and random num\n",
    "        s_new = -1\n",
    "        if s_old == 0:\n",
    "            if r <= p00:\n",
    "                s_new = 0\n",
    "            else:  \n",
    "                s_new = 1\n",
    "        if s_old == 1:\n",
    "            if r <= p11:\n",
    "                s_new = 1\n",
    "            else:\n",
    "                s_new = 0\n",
    "                \n",
    "        binary_seq.append(s_new)\n",
    "    return binary_seq"
   ]
  },
  {
   "cell_type": "code",
   "execution_count": 36,
   "metadata": {
    "collapsed": false
   },
   "outputs": [],
   "source": [
    "# run the binary sequence generator\n",
    "binary_seq = binary_markov_maker(num_elements = 200)"
   ]
  },
  {
   "cell_type": "code",
   "execution_count": 37,
   "metadata": {
    "collapsed": false
   },
   "outputs": [],
   "source": [
    "# generate input/output data by windowing\n",
    "window_size = 1\n",
    "X,y = window_transform(sequence = binary_seq,window_size=window_size)"
   ]
  },
  {
   "cell_type": "code",
   "execution_count": 38,
   "metadata": {
    "collapsed": false
   },
   "outputs": [
    {
     "data": {
      "text/plain": [
       "<keras.callbacks.History at 0x7eff4be233d0>"
      ]
     },
     "execution_count": 38,
     "metadata": {},
     "output_type": "execute_result"
    }
   ],
   "source": [
    "# build FNN to perform logistic regression on our input/output data\n",
    "model = Sequential()\n",
    "model.add(Dense(1, activation='sigmoid', input_dim=X.shape[1]))\n",
    "model.compile(optimizer='adam', loss='binary_crossentropy')\n",
    "\n",
    "# fit model\n",
    "model.fit(X, y, nb_epoch=2000,verbose = 0)"
   ]
  },
  {
   "cell_type": "code",
   "execution_count": 39,
   "metadata": {
    "collapsed": false
   },
   "outputs": [],
   "source": [
    "# generate predictions for training sequence of odd numbers\n",
    "train_predict = np.round(model.predict(X))"
   ]
  },
  {
   "cell_type": "code",
   "execution_count": 52,
   "metadata": {
    "collapsed": false
   },
   "outputs": [
    {
     "name": "stdout",
     "output_type": "stream",
     "text": [
      "200 of 200 classified correctly\n"
     ]
    }
   ],
   "source": [
    "# compare training data to predictions\n",
    "C = np.where(X == train_predict)\n",
    "print str(len(C[0])) + ' of ' + str(len(X)) + ' classified correctly'"
   ]
  },
  {
   "cell_type": "code",
   "execution_count": 57,
   "metadata": {
    "collapsed": false
   },
   "outputs": [
    {
     "name": "stdout",
     "output_type": "stream",
     "text": [
      "predicted p00 = 0.173785154139\n",
      "predicted p01 = 0.826214845861\n",
      "predicted p10 = 0.188541787568\n",
      "predicted p11 = 0.811458212432\n"
     ]
    }
   ],
   "source": [
    "# print the learned weights - they look quite similar to the original model!\n",
    "w = model.get_weights()\n",
    "\n",
    "# creat / print transition probabilities\n",
    "w0 = w[0][0][0]  # order of weights reversed in return\n",
    "w1 = w[1][0]\n",
    "\n",
    "p00 = 1/(1 + np.exp(w0))\n",
    "p01 = np.exp(w0)/(1 + np.exp(w0))\n",
    "p10 = 1/(1 + np.exp(w0+w1))\n",
    "p11 = np.exp(w0+w1)/(1+np.exp(w0+w1))\n",
    "\n",
    "# print transition probabilities\n",
    "print 'predicted p00 = ' + str(p00)\n",
    "print 'predicted p01 = ' + str(p01)\n",
    "print 'predicted p10 = ' + str(p10)\n",
    "print 'predicted p11 = ' + str(p11)"
   ]
  },
  {
   "cell_type": "markdown",
   "metadata": {
    "collapsed": false
   },
   "source": [
    "# QUIZ 4: Use logistic regression to fit a 4-integer markov chain"
   ]
  },
  {
   "cell_type": "code",
   "execution_count": null,
   "metadata": {
    "collapsed": true
   },
   "outputs": [],
   "source": [
    "# generate binary markov sequence of order 1\n",
    "def multi_markov_maker(num_elements):\n",
    "    # transition probabilities\n",
    "    transition_mat = np.random.rand(4,4)\n",
    "    transition_mat = [x/sum(x) for x in transition_mat]\n",
    "    transition_mat = np.asarray(transition_mat)\n",
    "\n",
    "    # generate sequence of desired length using transition probabilities\n",
    "    binary_seq = [1]\n",
    "    for i in range(num_elements):\n",
    "        # generate random number for transition\n",
    "        r = np.random.rand(1)\n",
    "        \n",
    "        # grab last element of sequence\n",
    "        s_old = binary_seq[-1]\n",
    "        \n",
    "        # transition based on last element of sequence and random num\n",
    "        s_new = -1\n",
    "        if s_old == 1:\n",
    "            \n",
    "            \n",
    "        elif s_old == 2:\n",
    "            \n",
    "            \n",
    "        elif s_old == 3:\n",
    "            \n",
    "            \n",
    "        binary_seq.append(s_new)\n",
    "    return binary_seq"
   ]
  },
  {
   "cell_type": "markdown",
   "metadata": {},
   "source": [
    "# QUIZ 5: Generating text"
   ]
  },
  {
   "cell_type": "markdown",
   "metadata": {},
   "source": [
    "## Functions for cleaning, prediction"
   ]
  },
  {
   "cell_type": "code",
   "execution_count": 14,
   "metadata": {
    "collapsed": false
   },
   "outputs": [],
   "source": [
    "# lets define some recursive sequences\n",
    "import numpy as np\n",
    "import matplotlib.pyplot as plt\n",
    "\n",
    "# window sequence\n",
    "def window_transform_series(text,window_size,step_size):\n",
    "    # containers for input/output pairs\n",
    "    inputs = []\n",
    "    outputs = []\n",
    "    \n",
    "    # window data\n",
    "    count = 0\n",
    "    for t in range(0,len(text) - window_size,step_size):\n",
    "        # get input sequence\n",
    "        temp_in = text[t:t + window_size]\n",
    "        inputs.append(temp_in)\n",
    "        \n",
    "        # get corresponding target\n",
    "        temp_target = text[t + window_size]\n",
    "        outputs.append(temp_target)\n",
    "    \n",
    "    return inputs,outputs\n",
    "\n",
    "# transform character-based input/output into equivalent numerical versions\n",
    "def encode_io_pairs(text,window_size,step_size,chars):\n",
    "    # number of unique chars\n",
    "    num_chars = len(chars)\n",
    "    \n",
    "    # cut up text into character input/output pairs\n",
    "    inputs, outputs = window_transform_series(text,window_size,step_size)\n",
    "\n",
    "    # create empty vessels for one-hot encoded input/output\n",
    "    X = np.zeros((len(inputs) ,num_chars*window_size), dtype=np.bool)\n",
    "    y = np.zeros((len(inputs), num_chars), dtype=np.bool)\n",
    "    \n",
    "    # loop over inputs/outputs and tranform and store in X/y\n",
    "    for i in range(len(outputs)):\n",
    "        input_sentence = inputs[i]\n",
    "        output_char = outputs[i]\n",
    "\n",
    "        # loop over input sentence and vectorize characters\n",
    "        for k in range(len(input_sentence)):\n",
    "            char = input_sentence[k]\n",
    "            ind = k*num_chars + chars_to_indices[char]\n",
    "            X[i,ind] = 1\n",
    "        y[i, chars_to_indices[output_char]] = 1\n",
    "        \n",
    "    return X,y\n",
    "\n",
    "# function that uses trained model to predict a desired number of future characters\n",
    "def predict_next_chars(model,input_chars,num_to_predict,chars):\n",
    "    num_chars = len(chars)\n",
    "    \n",
    "    # create output\n",
    "    predicted_chars = ''\n",
    "    for i in range(num_to_predict):\n",
    "        # convert this round's predicted characters to numerical input    \n",
    "        x_test = np.zeros((1, window_size * len(chars)))\n",
    "        for k in range(len(input_chars)):\n",
    "            char = input_chars[k]\n",
    "            ind =  chars_to_indices[char]\n",
    "            x_test[0,k*num_chars + ind] = 1\n",
    "\n",
    "        # make this round's prediction\n",
    "        test_predict = model.predict(x_test,verbose = 0)[0]\n",
    "\n",
    "        # translate numerical prediction back to characters\n",
    "        r = np.argmax(test_predict)                           # predict class of each test input\n",
    "        d = indices_to_chars[r] \n",
    "\n",
    "        # update predicted_chars and input\n",
    "        predicted_chars+=d\n",
    "        input_chars+=d\n",
    "        input_chars = input_chars[1:]\n",
    "    return predicted_chars"
   ]
  },
  {
   "cell_type": "markdown",
   "metadata": {},
   "source": [
    "### load and clean data"
   ]
  },
  {
   "cell_type": "code",
   "execution_count": 12,
   "metadata": {
    "collapsed": false
   },
   "outputs": [
    {
     "name": "stdout",
     "output_type": "stream",
     "text": [
      "this corpus has 32 unique characters\n"
     ]
    }
   ],
   "source": [
    "# load clean data\n",
    "text = open('datasets/holmes_cleaned.txt').read()\n",
    "\n",
    "# print out the number of unique characters in the dataset\n",
    "chars = sorted(list(set(text)))\n",
    "print (\"this corpus has \" +  str(len(chars)) + \" unique characters\")\n",
    "\n",
    "# this dictionary is a function mapping each unique character to a unique integer\n",
    "chars_to_indices = dict((c, i) for i, c in enumerate(chars))  # map each unique character to unique integer\n",
    "\n",
    "# this dictionary is a function mapping each unique integer back to a unique character\n",
    "indices_to_chars = dict((i, c) for i, c in enumerate(chars))  # map each unique integer back to unique character\n",
    "\n",
    "# use your function\n",
    "window_size = 50\n",
    "step_size = 5\n",
    "num_chars = len(chars)\n",
    "# sample_text = text[:100000]\n",
    "X,y = encode_io_pairs(sample_text,window_size,step_size,chars)"
   ]
  },
  {
   "cell_type": "code",
   "execution_count": 15,
   "metadata": {
    "collapsed": false
   },
   "outputs": [],
   "source": [
    "### necessary functions from the keras library\n",
    "from keras.models import Sequential\n",
    "from keras.layers import Dense, Activation, LSTM\n",
    "from keras.optimizers import RMSprop\n",
    "from keras.utils.data_utils import get_file\n",
    "import keras\n",
    "import random\n",
    "\n",
    "# Use keras's checkpoint module to record the best weights of our model while training\n",
    "import keras.callbacks\n",
    "path=\"best_RNN_weights.hdf5\"\n",
    "checkpoint = keras.callbacks.ModelCheckpoint(path, monitor='loss', verbose=1, save_best_only=True, mode='min')\n",
    "callbacks_list = [checkpoint]\n",
    "\n",
    "model = Sequential()\n",
    "model.add((Dense(num_chars, input_dim=num_chars*window_size,  activation='linear')))\n",
    "model.add((Dense(num_chars,activation='softmax')))\n",
    "optimizer = keras.optimizers.Adam(lr=0.001, beta_1=0.9, beta_2=0.999, epsilon=1e-08, decay=0.0)\n",
    "model.compile(optimizer=optimizer,\n",
    "              loss='categorical_crossentropy',\n",
    "              metrics=['accuracy'])"
   ]
  },
  {
   "cell_type": "code",
   "execution_count": 16,
   "metadata": {
    "collapsed": false
   },
   "outputs": [
    {
     "data": {
      "text/plain": [
       "<keras.callbacks.History at 0x7fe5c622ea10>"
      ]
     },
     "execution_count": 16,
     "metadata": {},
     "output_type": "execute_result"
    }
   ],
   "source": [
    "# train the model\n",
    "model.fit(X, y, batch_size=24, nb_epoch=1000,verbose = 0)"
   ]
  },
  {
   "cell_type": "code",
   "execution_count": 17,
   "metadata": {
    "collapsed": false
   },
   "outputs": [
    {
     "name": "stdout",
     "output_type": "stream",
     "text": [
      "------------------\n",
      "input chars = \n",
      "ldom heard him mention her under any other name. i\"\n",
      "\n",
      "predicted chars = \n",
      "nd he hed, compriced orseme. my yomundi, couphe of con alked ay blo my.  ils, und wh, lyope y uny ur\"\n",
      "\n",
      "------------------\n",
      "input chars = \n",
      " the whole of her sex. it was not that he felt any\"\n",
      "\n",
      "predicted chars = \n",
      " wancism. ham tha lw. he d gavelles you hy haspercotch im. i whath how want of tof tha d y inclupclo\"\n",
      "\n",
      "------------------\n",
      "input chars = \n",
      "s, and that one particularly, were abhorrent to hi\"\n",
      "\n",
      "predicted chars = \n",
      "sbee , and ghy. wallut, my ullferiy fat yourd mono dlebyound t. theumed, ay yon moy urawe auk, ist e\"\n",
      "\n"
     ]
    }
   ],
   "source": [
    "# get an appropriately sized chunk of characters from the text\n",
    "f = open('RNN_output.txt', 'w')  # create an output file to write too\n",
    "\n",
    "start_inds = [10,100,200]\n",
    "for s in start_inds:\n",
    "    start_index = s\n",
    "    input_chars = sample_text[start_index: start_index + window_size]\n",
    "\n",
    "    # use the prediction function\n",
    "    predict_input = predict_next_chars(model,input_chars,num_to_predict = 100, chars=chars)\n",
    "\n",
    "    # print out input characters\n",
    "    line = '------------------'\n",
    "    print(line)\n",
    "    f.write(line)\n",
    "        \n",
    "    line = 'input chars = ' + '\\n' +  input_chars + '\"' + '\\n'\n",
    "    print(line)\n",
    "    f.write(line)\n",
    "\n",
    "    # print out predicted characters\n",
    "    line = 'predicted chars = ' + '\\n' +  predict_input + '\"' + '\\n'\n",
    "    print(line)\n",
    "    f.write(line)\n",
    "f.close()"
   ]
  },
  {
   "cell_type": "markdown",
   "metadata": {},
   "source": [
    "------------------\n",
    "input chars = \n",
    "ldom heard him mention her under any other name. i\"\n",
    "\n",
    "predicted chars = \n",
    "n y s hod sont ee tis aren es eoeed aoe iple sinwe he ofye ti nesontcko notha hehe set intt r ti ess\"\n",
    "\n",
    "------------------\n",
    "input chars = \n",
    " the whole of her sex. it was not that he felt any\"\n",
    "\n",
    "predicted chars = \n",
    " le. ioe iks oy ihe w athe tr aa ele sellii. it mien fagtrent am res cner y aoig oencis t ontt wos a\"\n",
    "\n",
    "------------------\n",
    "input chars = \n",
    "s, and that one particularly, were abhorrent to hi\"\n",
    "\n",
    "predicted chars = \n",
    "son ad ecsei et f ts toontt os ahin  s or auetheas mant satiis te.  o trea. enton thoy  dscto pin tr\""
   ]
  }
 ],
 "metadata": {
  "anaconda-cloud": {},
  "kernelspec": {
   "display_name": "Python 2",
   "language": "python",
   "name": "python2"
  },
  "language_info": {
   "codemirror_mode": {
    "name": "ipython",
    "version": 2
   },
   "file_extension": ".py",
   "mimetype": "text/x-python",
   "name": "python",
   "nbconvert_exporter": "python",
   "pygments_lexer": "ipython2",
   "version": "2.7.12"
  }
 },
 "nbformat": 4,
 "nbformat_minor": 1
}
