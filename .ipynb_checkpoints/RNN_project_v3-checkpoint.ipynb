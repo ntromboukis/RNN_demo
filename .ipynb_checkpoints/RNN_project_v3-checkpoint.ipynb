{
 "cells": [
  {
   "cell_type": "markdown",
   "metadata": {},
   "source": [
    "# Artificial Intelligence Nanodegree\n",
    "## Recurrent Neural Network Projects\n",
    "\n",
    "Welcome to the Recurrent Neural Network Project in the Artificial Intelligence Nanodegree! In this notebook, some template code has already been provided for you, and you will need to implement additional functionality to successfully complete this project. You will not need to modify the included code beyond what is requested. Sections that begin with **'Implementation'** in the header indicate that the following block of code will require additional functionality which you must provide. Instructions will be provided for each section and the specifics of the implementation are marked in the code block with a 'TODO' statement. Please be sure to read the instructions carefully!\n",
    "\n",
    "In addition to implementing code, there will be questions that you must answer which relate to the project and your implementation. Each section where you will answer a question is preceded by a **'Question X'** header. Carefully read each question and provide thorough answers in the following text boxes that begin with **'Answer:'**. Your project submission will be evaluated based on your answers to each of the questions and the implementation you provide.  \n",
    "\n",
    ">**Note:** Code and Markdown cells can be executed using the **Shift + Enter** keyboard shortcut. In addition, Markdown cells can be edited by typically double-clicking the cell to enter edit mode."
   ]
  },
  {
   "cell_type": "markdown",
   "metadata": {},
   "source": [
    "# Project 1: Perform time series prediction \n",
    "\n",
    "In this project you will perform time series prediction using a Recurrent Neural Network regressor.  In particular you will re-create the figure shown in the notes - where the stock price of Apple was forecasted (or predicted) 7 days in advance.  In completing this exercise you will learn how to construct RNNs using Keras, which will also aid in completing the second project in this notebook.\n",
    "\n",
    "The particular network architecture we will employ for our RNN is known as  [Long Term Short Memory (LTSM)](https://en.wikipedia.org/wiki/Long_short-term_memory), which helps significantly avoid technical problems with optimization of RNNs.  "
   ]
  },
  {
   "cell_type": "markdown",
   "metadata": {},
   "source": [
    "## 1.1 Getting started\n",
    "\n",
    "First we must load in our time series - a history of around 140 days of Apple's stock price.  Then we need to perform a number of pre-processing steps to prepare it for use with an RNN model.  First off, it is good practice to normalize time series - by normalizing its range.  This helps us avoid serious numerical issues associated how common activation functions (like tanh) transform very large (positive or negative) numbers, as well as helping us to avoid related issues when computing derivatives.\n",
    "\n",
    "Here we normalize the series to lie in the range [0,1], but it is also commonplace to normalize by a series standard deviation."
   ]
  },
  {
   "cell_type": "code",
   "execution_count": 4,
   "metadata": {
    "collapsed": false
   },
   "outputs": [],
   "source": [
    "### Load in necessary libraries for data input and normalization\n",
    "%matplotlib inline\n",
    "import numpy as np\n",
    "import matplotlib.pyplot as plt\n",
    "from sklearn.preprocessing import MinMaxScaler\n",
    "\n",
    "### load in and normalize the dataset\n",
    "dataset = np.loadtxt('apple_prices.csv')\n",
    "scaler = MinMaxScaler(feature_range=(0, 1)) \n",
    "dataset = scaler.fit_transform(dataset.reshape(-1,1))"
   ]
  },
  {
   "cell_type": "markdown",
   "metadata": {},
   "source": [
    "Lets take a quick look at the (normalized) time series we'll be performing predictions on."
   ]
  },
  {
   "cell_type": "code",
   "execution_count": 5,
   "metadata": {
    "collapsed": false
   },
   "outputs": [
    {
     "data": {
      "text/plain": [
       "[<matplotlib.lines.Line2D at 0x109b1e1d0>]"
      ]
     },
     "execution_count": 5,
     "metadata": {},
     "output_type": "execute_result"
    },
    {
     "data": {
      "image/png": "[encoded data removed]",
      "text/plain": [
       "<matplotlib.figure.Figure at 0x108a88410>"
      ]
     },
     "metadata": {},
     "output_type": "display_data"
    }
   ],
   "source": [
    "# lets take a look at our time series\n",
    "plt.plot(dataset)"
   ]
  },
  {
   "cell_type": "markdown",
   "metadata": {},
   "source": [
    "## 1.2  Cutting our time series into sequences\n",
    "\n",
    "Remember, our time series is a sequence of numbers that we can represent in general mathematically as \n",
    "\n",
    "$$y_{0},y_{1},y_{2},...,y_{P}$$\n",
    "\n",
    "where $y_{p}$ is the numerical value of the time series at time period $p$ and where $P$ is the total length of the series.  In order to apply our RNN we treat the time series prediction problem as a regression problem, and so need to use a sliding window to construct a set of associated input/output pairs to regress on.  This process is animated in the gif below.\n",
    "\n",
    "TIME SERIES GIF GOES HERE\n",
    "\n",
    "For example - using a window of size $T=3$ we produce a set of input/output pairs like the one shown in the table below\n",
    "\n",
    "$$\\begin{array}{c|c}\n",
    "\\text{Input} & \\text{Output}\\\\\n",
    "\\hline \\left[y_{0},y_{1},y_{2}\\right] & y_{3}\\\\\n",
    "\\left[y_{1},y_{2},y_{3}\\right] & y_{4}\\\\\n",
    "\\vdots & \\vdots\\\\\n",
    "\\left[y_{P-3},y_{P-2},y_{P-1}\\right] & y_{P}\n",
    "\\end{array}$$\n",
    "\n",
    "Next, in order to apply our RNN and treat the problem as one of regression we need to window the data as described in the introductory notebook.  This means - in short - we want to *window* the data in creating our corresponding input/output sequences.  \n",
    "\n",
    "**TODO:** Create a function that runs a sliding window along the input series and creates associated input/output pairs.  A skeleton function has been provided for you.  Note that this function should input a) the series and b) the window length, and return the input/output sequences."
   ]
  },
  {
   "cell_type": "code",
   "execution_count": 2,
   "metadata": {
    "collapsed": true
   },
   "outputs": [],
   "source": [
    "### TODO: fill out the function below that transforms the input series and window-size into a set of input/output pairs for use with our RNN model\n",
    "def window_transform_series(series,window_size):\n",
    "    # containers for input/output pairs\n",
    "    X = []\n",
    "    y = []\n",
    "    \n",
    "    # window data\n",
    "    count = 0\n",
    "    for t in range(len(series) - window_size):\n",
    "        # get input sequence\n",
    "        temp_in = series[t:t + window_size]\n",
    "        X.append(temp_in)\n",
    "        \n",
    "        # get corresponding target\n",
    "        temp_target = series[t + window_size]\n",
    "        y.append(temp_target)\n",
    "        count+=1\n",
    "        \n",
    "    # reshape each \n",
    "    X = np.asarray(X)\n",
    "    X.shape = (np.shape(X)[0:2])\n",
    "    y = np.asarray(y)\n",
    "    y.shape = (len(y),)\n",
    "    \n",
    "    return X,y"
   ]
  },
  {
   "cell_type": "markdown",
   "metadata": {},
   "source": [
    "With this function in place apply it to the series in the Python cell below."
   ]
  },
  {
   "cell_type": "code",
   "execution_count": 15,
   "metadata": {
    "collapsed": false
   },
   "outputs": [],
   "source": [
    "# window the data using your windowing function\n",
    "window_size = 7\n",
    "X,y = window_transform_series(series = dataset,window_size = window_size)"
   ]
  },
  {
   "cell_type": "markdown",
   "metadata": {},
   "source": [
    "In order to perform proper testing on our dataset we will lop off the last 1/3 of it for validation (or testing).  This is that once we train our model we have something to test it on (like any regression problem!).  This splitting into training/testing sets is done in the cell below.\n",
    "\n",
    "Note how here we are **not** splitting the dataset *randomly* as one typically would do when validating a regression model.  This is because our input/output pairs *are related temporally*.   We don't want to validate our model by training on a random subset of the series and then testing on another random subset, as this simulates the scenario that we receive new points *within the timeframe of our training set*.  \n",
    "\n",
    "We want to train on one solid chunk of the series (in our case, the first 2/3 of it), and validate on a later chunk (the last 1/3) as this simulates how we would predict *future* values of a time series."
   ]
  },
  {
   "cell_type": "code",
   "execution_count": 4,
   "metadata": {
    "collapsed": true
   },
   "outputs": [],
   "source": [
    "# split our dataset into training / testing sets\n",
    "train_test_split = int(np.ceil(2*len(y)/float(3)))   # set the split point\n",
    "\n",
    "# partition the training set\n",
    "X_train = X[:train_test_split,:]\n",
    "y_train = y[:train_test_split]\n",
    "\n",
    "# keep the last chunk for testing\n",
    "X_test = X[train_test_split:,:]\n",
    "y_test = y[train_test_split:]"
   ]
  },
  {
   "cell_type": "markdown",
   "metadata": {},
   "source": [
    "## 1.3  Building our RNN model\n",
    "\n",
    "With our dataset loaded in and pre-processed we can now begin setting up our RNN.  We use Keras to quickly build a single hidden layer RNN - where our hidden layer consists of LTSM modules.\n",
    "\n",
    "Now its your turn to build a simple single-hidden layer RNN with LTSM hidden units, a softmax activation, and mean_squared_error loss function.  This can be constructed using just a few lines - see e.g., the [general Keras documentation](https://keras.io/getting-started/sequential-model-guide/) and the [LTSM documentation in particular](https://keras.io/layers/recurrent/) for examples of how to quickly use Keras to build neural network models.  Make sure you are using the preferred optimizer (given in the cell below."
   ]
  },
  {
   "cell_type": "code",
   "execution_count": 5,
   "metadata": {
    "collapsed": false
   },
   "outputs": [
    {
     "name": "stderr",
     "output_type": "stream",
     "text": [
      "Using TensorFlow backend.\n"
     ]
    }
   ],
   "source": [
    "### TODO: create required RNN model\n",
    "\n",
    "# import keras network libraries\n",
    "from keras.models import Sequential\n",
    "from keras.layers import Dense\n",
    "from keras.layers import LSTM\n",
    "import keras\n",
    "\n",
    "# fix random seed\n",
    "np.random.seed(2)\n",
    "\n",
    "# build model\n",
    "optimizer = keras.optimizers.RMSprop(lr=0.001, rho=0.9, epsilon=1e-08, decay=0.0)\n",
    "model = Sequential()\n",
    "model.add(Dense(8, input_dim=window_size, activation='relu'))\n",
    "model.add(Dense(1))\n",
    "model.compile(loss='mean_squared_error', optimizer=optimizer)"
   ]
  },
  {
   "cell_type": "markdown",
   "metadata": {},
   "source": [
    "With your model built we can now fit the model by activating the cell below! "
   ]
  },
  {
   "cell_type": "code",
   "execution_count": 9,
   "metadata": {
    "collapsed": false
   },
   "outputs": [
    {
     "data": {
      "text/plain": [
       "<keras.callbacks.History at 0x110f7ae10>"
      ]
     },
     "execution_count": 9,
     "metadata": {},
     "output_type": "execute_result"
    }
   ],
   "source": [
    "# run your model!\n",
    "model.fit(X_train, y_train, nb_epoch=1000, batch_size=2, verbose=1)"
   ]
  },
  {
   "cell_type": "markdown",
   "metadata": {},
   "source": [
    "## 1.4  Checking performance\n",
    "\n",
    "With your model fit we can now make predictions on both our training and testing sets."
   ]
  },
  {
   "cell_type": "code",
   "execution_count": 10,
   "metadata": {
    "collapsed": true
   },
   "outputs": [],
   "source": [
    "# generate predictions for training\n",
    "train_predict = model.predict(X_train)\n",
    "test_predict = model.predict(X_test)"
   ]
  },
  {
   "cell_type": "markdown",
   "metadata": {},
   "source": [
    "Activating the next cell plots the original data, as well as both predictions on the training and testing sets.  **Your plot should look very similar to the one given in the notes!**"
   ]
  },
  {
   "cell_type": "code",
   "execution_count": 11,
   "metadata": {
    "collapsed": false
   },
   "outputs": [
    {
     "data": {
      "image/png": "[encoded data removed]",
      "text/plain": [
       "<matplotlib.figure.Figure at 0x110fa9320>"
      ]
     },
     "metadata": {},
     "output_type": "display_data"
    }
   ],
   "source": [
    "### Plot everything - the original series as well as predictions on training and testing sets\n",
    "import matplotlib.pyplot as plt\n",
    "%matplotlib inline\n",
    "\n",
    "# plot original series\n",
    "plt.plot(dataset,color = 'k')\n",
    "\n",
    "# plot training set prediction\n",
    "split_pt = train_test_split + window_size \n",
    "plt.plot(np.arange(window_size,split_pt,1),train_predict,color = 'b')\n",
    "\n",
    "# plot testing set prediction\n",
    "plt.plot(np.arange(split_pt,split_pt + len(test_predict),1),test_predict,color = 'r')\n",
    "\n",
    "# pretty up graph\n",
    "plt.xlabel('day')\n",
    "plt.ylabel('(normalized) price of Apple stock')\n",
    "plt.legend(['original series','training fit','testing fit'],loc='center left', bbox_to_anchor=(1, 0.5))\n",
    "\n",
    "plt.show()"
   ]
  },
  {
   "cell_type": "markdown",
   "metadata": {},
   "source": [
    "**Note:** you can try use any time series for this exercise!  If you would like to try another see e.g., [this site containing thousands of time series](https://datamarket.com/data/list/?q=provider%3Atsdl) and pick another one!"
   ]
  },
  {
   "cell_type": "markdown",
   "metadata": {},
   "source": [
    "# Project 2: Create a sequence generator"
   ]
  },
  {
   "cell_type": "markdown",
   "metadata": {},
   "source": [
    "## 2.1  Getting started\n",
    "\n",
    "In this project you will implement a popular Recurrent Neural Network (RNN) architecture to create an English language sequence generator capable of building semi-coherent english sentences from scratch by building them up character-by-character.  This will require a substantial amount amount of parameter tuning on a large training corpus (at least 100,000 characters long).  In particular for this project we will be using a complete version of Sir Arthur Conan Doyle's classic book The Adventures of Sherlock Holmes.\n",
    "\n",
    "**Fun note:** For those interested in how text generation is being used check out some of the following fun resources:\n",
    "\n",
    "- [Generate wacky sentences](http://www.cs.toronto.edu/~ilya/rnn.html) with this academic RNN text generator\n",
    "\n",
    "- Various twitter bots that tweet automatically generated text like[this one](http://tweet-generator-alex.herokuapp.com/).\n",
    "\n",
    "- the [NanoGenMo](https://github.com/NaNoGenMo/2016) annual contest to automatically produce a 50,000+ novel automatically"
   ]
  },
  {
   "cell_type": "markdown",
   "metadata": {},
   "source": [
    "**Important note:** Tuning RNNs for a typical character dataset like the one we will use here is a computationally intensive endeavour and thus timely on a typical CPU.  Using a reasonably sized cloud-based GPU can speed up training by a factor of 10.  Also because of the long training time it is highly recommended that you carefully write the output of each step of your process to file.  This is so that all of your results are saved even if you close close the web browser you're working out of, as the processes will continue processing in the background but variables/output in the notebook system will not update when you open it again."
   ]
  },
  {
   "cell_type": "code",
   "execution_count": 6,
   "metadata": {
    "collapsed": false
   },
   "outputs": [],
   "source": [
    "### A simple way to write output to file\n",
    "x = 2   \n",
    "f = open('my_test_output.txt', 'w')              # create an output file to write too\n",
    "f.write('this is only a test ' + '\\n')           # print some output text\n",
    "f.write('the value of x is ' + str(x) + '\\n')    # record a variable value\n",
    "f.close()                                        # close the file when everything is recorded"
   ]
  },
  {
   "cell_type": "code",
   "execution_count": 51,
   "metadata": {
    "collapsed": false
   },
   "outputs": [],
   "source": [
    "from __future__ import print_function\n",
    "import numpy as np\n",
    "import sys\n",
    "f = open('RNN_seq_gen_output.txt', 'w')              # create an output file to write too"
   ]
  },
  {
   "cell_type": "markdown",
   "metadata": {},
   "source": [
    "## 2.2  Preprocessing a text dataset\n",
    "\n",
    "Our first task is to get a large text corpus for use in training, and on it we perform a several light pre-processing tasks.  The default corpus we will use is the classic book Sherlock Holmes, but you can use a variety of others as well - so long as they are fairly large (around 100,000 characters or more).  "
   ]
  },
  {
   "cell_type": "code",
   "execution_count": 60,
   "metadata": {
    "collapsed": false
   },
   "outputs": [
    {
     "name": "stdout",
     "output_type": "stream",
     "text": [
      "our original text has 594933 characters\n"
     ]
    }
   ],
   "source": [
    "# read in the text, transforming everything to lower case\n",
    "text = open('holmes.txt').read().lower()\n",
    "print('our original text has ' + str(len(text)) + ' characters')"
   ]
  },
  {
   "cell_type": "markdown",
   "metadata": {},
   "source": [
    "Next, lets examine a bit of the raw text.  Because we are interested in creating sentences of English words automatically by building up each word character-by-character, we only want to train on valid English words.  In other words - we need to remove all of the other junk characters that aren't words!"
   ]
  },
  {
   "cell_type": "code",
   "execution_count": 61,
   "metadata": {
    "collapsed": false
   },
   "outputs": [
    {
     "data": {
      "text/plain": [
       "\"\\xef\\xbb\\xbfproject gutenberg's the adventures of sherlock holmes, by arthur conan doyle\\r\\n\\r\\nthis ebook is for the use of anyone anywhere at no cost and with\\r\\nalmost no restrictions whatsoever.  you may copy it, give it away or\\r\\nre-use it under the terms of the project gutenberg license included\\r\\nwith this ebook or online at www.gutenberg.net\\r\\n\\r\\n\\r\\ntitle: the adventures of sherlock holmes\\r\\n\\r\\nauthor: arthur conan doyle\\r\\n\\r\\nposting date: april 18, 2011 [ebook #1661]\\r\\nfirst posted: november 29, 2002\\r\\n\\r\\nlanguage: english\\r\\n\\r\\n\\r\\n*** start of this project gutenberg ebook the adventures of sherlock holmes ***\\r\\n\\r\\n\\r\\n\\r\\n\\r\\nproduced by an anonymous project gutenberg volunteer and jose menendez\\r\\n\\r\\n\\r\\n\\r\\n\\r\\n\\r\\n\\r\\n\\r\\n\\r\\n\\r\\nthe adventures of sherlock holmes\\r\\n\\r\\nby\\r\\n\\r\\nsir arthur conan doyle\\r\\n\\r\\n\\r\\n\\r\\n   i. a scandal in bohemia\\r\\n  ii. the red-headed league\\r\\n iii. a case of identity\\r\\n  iv. the boscombe valley mystery\\r\\n   v. the five orange pips\\r\\n  vi. the man with the twisted lip\\r\\n vii. the adventure of the blue carbuncle\\r\\nviii. the adventure of the speckled band\\r\\n  ix. the adventure of the engineer's thumb\\r\\n   x. the adventure of the noble bachelor\\r\\n  xi. the adventure of the beryl coronet\\r\\n xii. the adventure of the copper beeches\\r\\n\\r\\n\\r\\n\\r\\n\\r\\nadventure i. a scandal in bohemia\\r\\n\\r\\ni.\\r\\n\\r\\nto sherlock holmes she is always the woman. i have seldom heard\\r\\nhim mention her under any other name. in his eyes she eclipses\\r\\nand predominates the whole of her sex. it was not that he felt\\r\\nany emotion akin to love for irene adler. all emotions, and that\\r\\none particularly, were abhorrent to his cold, precise but\\r\\nadmirably balanced mind. he was, i take it, the most perfect\\r\\nreasoning and observing machine that the world has seen, but as a\\r\\nlover he would have placed himself in a false position. he never\\r\\nspoke of the softer passions, save with a gibe and a sneer. they\\r\\nwere admirable things for the observer--excellent for drawing the\\r\\nveil from men's motives and actions. but for the trained reasoner\\r\\nto admit such intrusions int\""
      ]
     },
     "execution_count": 61,
     "metadata": {},
     "output_type": "execute_result"
    }
   ],
   "source": [
    "### print out the first 1000 characters of the raw text to get a sense of what we need to throw out\n",
    "text[:2000]"
   ]
  },
  {
   "cell_type": "markdown",
   "metadata": {},
   "source": [
    "Wow - there's a lot of junk here!  e.g., all the carriage return and newline sequences '\\n' and '\\r' sequences.  We want to train our RNN on a large chunk of real english sentences - we don't want it to start thinking non-english words or strange characters are valid! - so lets clean up the data a bit.\n",
    "\n",
    "First, since the dataset is so large and the first few hundred characters contain a lot of junk, lets cut it out.  Lets also find-and-replace those newline tags with empty spaces."
   ]
  },
  {
   "cell_type": "code",
   "execution_count": 62,
   "metadata": {
    "collapsed": false
   },
   "outputs": [],
   "source": [
    "### find and replace '\\n' and '\\r' symbols - replacing them \n",
    "text = text[1302:]\n",
    "text = text.replace('\\n',' ')    # replacing '\\n' with '' simply removes the sequence\n",
    "text = text.replace('\\r',' ')"
   ]
  },
  {
   "cell_type": "markdown",
   "metadata": {},
   "source": [
    "Lets see how the first 1000 characters of our text looks now!"
   ]
  },
  {
   "cell_type": "code",
   "execution_count": 63,
   "metadata": {
    "collapsed": false
   },
   "outputs": [
    {
     "data": {
      "text/plain": [
       "\" i have seldom heard  him mention her under any other name. in his eyes she eclipses  and predominates the whole of her sex. it was not that he felt  any emotion akin to love for irene adler. all emotions, and that  one particularly, were abhorrent to his cold, precise but  admirably balanced mind. he was, i take it, the most perfect  reasoning and observing machine that the world has seen, but as a  lover he would have placed himself in a false position. he never  spoke of the softer passions, save with a gibe and a sneer. they  were admirable things for the observer--excellent for drawing the  veil from men's motives and actions. but for the trained reasoner  to admit such intrusions into his own delicate and finely  adjusted temperament was to introduce a distracting factor which  might throw a doubt upon all his mental results. grit in a  sensitive instrument, or a crack in one of his own high-power  lenses, would not be more disturbing than a strong emotion in a  nature such as hi\""
      ]
     },
     "execution_count": 63,
     "metadata": {},
     "output_type": "execute_result"
    }
   ],
   "source": [
    "### print out the first 1000 characters of the raw text to get a sense of what we need to throw out\n",
    "text[:1000]"
   ]
  },
  {
   "cell_type": "markdown",
   "metadata": {},
   "source": [
    "Now its your turn to make sure we haven't left any other non-english characters lurking around in the depths of the text.  You can do this by ennumerating all the text's unique characters, examining them, and then replacing any unwanted (non-english) characters with empty spaces!"
   ]
  },
  {
   "cell_type": "code",
   "execution_count": 64,
   "metadata": {
    "collapsed": false
   },
   "outputs": [
    {
     "name": "stdout",
     "output_type": "stream",
     "text": [
      "['\\xa8', '\\xa9', '!', ' ', '\"', '%', '$', \"'\", '&', ')', '(', '*', '-', ',', '/', '.', '1', '0', '3', '2', '5', '4', '7', '6', '9', '8', ';', ':', '?', '@', '\\xc3', '\\xa0', '\\xa2', 'a', 'c', 'b', 'e', 'd', 'g', 'f', 'i', 'h', 'k', 'j', 'm', 'l', 'o', 'n', 'q', 'p', 's', 'r', 'u', 't', 'w', 'v', 'y', 'x', 'z']\n"
     ]
    }
   ],
   "source": [
    "# TODO: find all unique characters in the text\n",
    "a = list(set(text))\n",
    "print(a)"
   ]
  },
  {
   "cell_type": "markdown",
   "metadata": {},
   "source": [
    "Now that you have found all of the text's unique characters, remove all of the non-english ones in the next cell.  Note: don't remove necessary punctuation marks!"
   ]
  },
  {
   "cell_type": "code",
   "execution_count": 65,
   "metadata": {
    "collapsed": true
   },
   "outputs": [],
   "source": [
    "# TODO: remove as many non-english characters and character sequences as you can \n",
    "non_english = ['\\xa8', '\\xa9', '\"', '%', '$', \"'\", '&', ')', '(', '*', '-', '/', '1', '0', '3', '2', '5', '4', '7', '6', '9', '8', '?', '@', '\\xc3', '\\xa0', '\\xa2']\n",
    "for i in non_english:\n",
    "    text = text.replace(i,'')\n",
    "text = text.replace('  ',' ')"
   ]
  },
  {
   "cell_type": "markdown",
   "metadata": {},
   "source": [
    "With your chosen characters removed print out the first few hundred lines again just to double check that everything looks good."
   ]
  },
  {
   "cell_type": "code",
   "execution_count": 66,
   "metadata": {
    "collapsed": false
   },
   "outputs": [
    {
     "data": {
      "text/plain": [
       "' i have seldom heard him mention her under any other name. in his eyes she eclipses and predominates the whole of her sex. it was not that he felt any emotion akin to love for irene adler. all emotions, and that one particularly, were abhorrent to his cold, precise but admirably balanced mind. he was, i take it, the most perfect reasoning and observing machine that the world has seen, but as a lover he would have placed himself in a false position. he never spoke of the softer passions, save with a gibe and a sneer. they were admirable things for the observerexcellent for drawing the veil from mens motives and actions. but for the trained reasoner to admit such intrusions into his own delicate and finely adjusted temperament was to introduce a distracting factor which might throw a doubt upon all his mental results. grit in a sensitive instrument, or a crack in one of his own highpower lenses, would not be more disturbing than a strong emotion in a nature such as his. and yet there was but one woman to him, and that woman was the late irene adler, of dubious and questionable memory.  i had seen little of holmes lately. my marriage had drifted us away from each other. my own complete happiness, and the homecentred interests which rise up around the man who first finds himself master of his own establishment, were sufficient to absorb all my attention, while holmes, who loathed every form of society with his whole bohemian soul, remained in our lodgings in baker street, buried among his old books, and alternating from week to week between cocaine and ambition, the drowsiness of the drug, and the fierce energy of his own keen nature. he was still, as ever, deeply attracted by the study of crime, and occupied his immense faculties and extraordinary powers of observation in following out those clues, and clearing up those mysteries which had been abandoned as hopeless by the official police. from time to time i heard some vague account of his doings: of his summons to od'"
      ]
     },
     "execution_count": 66,
     "metadata": {},
     "output_type": "execute_result"
    }
   ],
   "source": [
    "### print out the first 2000 characters of the raw text to get a sense of what we need to throw out\n",
    "text[:2000]"
   ]
  },
  {
   "cell_type": "markdown",
   "metadata": {},
   "source": [
    "Now that we have thrown out a good number of non-English characters/character sequences lets print out some statistics about the dataset - including number of total characters and number of unique characters.\n",
    "\n",
    "<font color='red'>__COMMENTS/SUGGESTIONS:__ i'm thinking you should just skip into the chapters. like, dump out the first 1000 or so characters with table of contents and other non-sentences. in the code cell below, I would remove \"number of\" in \"total number of characters\".  i printed the characters.  what is \"\\ufeff\"?  maybe remove that one...\n",
    "\n",
    "on removing the string 'ix.' removes the end of sentences like 'fix.', 'six.', etc. 'x.' removes 'tax.' more reliable to just skip past chapters\n",
    "\n",
    "would also tell them as a shortcut to figure out what kinds of strings are bad they might be able to just print `sorted(list(set(text)))` to check the guess</font>"
   ]
  },
  {
   "cell_type": "code",
   "execution_count": 35,
   "metadata": {
    "collapsed": false
   },
   "outputs": [
    {
     "name": "stdout",
     "output_type": "stream",
     "text": [
      "this corpus has 97427 total number of characters\n",
      "this corpus has 41 unique characters\n"
     ]
    }
   ],
   "source": [
    "# count the number of unique characters in the text\n",
    "chars = sorted(list(set(text)))\n",
    "\n",
    "# print some of the text, as well as statistics\n",
    "print (\"this corpus has \" +  str(len(text)) + \" total number of characters\")\n",
    "print (\"this corpus has \" +  str(len(chars)) + \" unique characters\")"
   ]
  },
  {
   "cell_type": "markdown",
   "metadata": {},
   "source": [
    "The last step:  convert our characters via a look up table into numerical values.  We can't just throw characters into any machine learning algorithm - they only ingest numerical values.  So we need to create a function that transforms each of our input characters into distinct numerical values - like integers.  To do this we make a simple dictionary mapping each unique character to a unique integer.  To re-translate the output of our RNN - which will be a sequence of integers - into our unique set of characters we also create the inverse function dictionary mapping integers back to our unique characters."
   ]
  },
  {
   "cell_type": "code",
   "execution_count": 36,
   "metadata": {
    "collapsed": true
   },
   "outputs": [],
   "source": [
    "### generate function mapping each unique character to a unique integer, as well as its inverse\n",
    "char_indices = dict((c, i) for i, c in enumerate(chars))  # map each unique character to unique integer\n",
    "indices_char = dict((i, c) for i, c in enumerate(chars))  # map each unique integer back to unique character"
   ]
  },
  {
   "cell_type": "markdown",
   "metadata": {},
   "source": [
    "## Cutting our text into sequences\n",
    "\n",
    "Now we need to cut up the text into equal length sequences.  However it can certainly be the case that a word at the start or end of a sequence might get cut off, so in order to not lose this information we cut up the text in a simiilar manner to how images / audio are cut for classification - via *windowing*.  Imagine the entire text as one long string.  We slide a window of fixed length along the string from left to right - taking a step of a certain number of characters each time - and take a snapshot of whats in the window at each moment.\n",
    "\n",
    "<font color='red'>__COMMENTS/SUGGESTIONS:__ at some point (just came to mind) might want to clarify that (i cant </font>"
   ]
  },
  {
   "cell_type": "code",
   "execution_count": 37,
   "metadata": {
    "collapsed": false
   },
   "outputs": [],
   "source": [
    "### cut the text into sequences\n",
    "def window_transform_text(text):\n",
    "    maxlen = 40\n",
    "    step = 3\n",
    "    sentences = []\n",
    "    next_chars = []\n",
    "    \n",
    "    # loop over text and cut into sequences\n",
    "    for i in range(0, len(text) - maxlen, step):\n",
    "        sentences.append(text[i: i + maxlen])\n",
    "        next_chars.append(text[i + maxlen])\n",
    "\n",
    "    # create windowed dataset\n",
    "    X = np.zeros((len(sentences), maxlen, len(chars)), dtype=np.bool)\n",
    "    y = np.zeros((len(sentences), len(chars)), dtype=np.bool)\n",
    "    for i, sentence in enumerate(sentences):\n",
    "        for t, char in enumerate(sentence):\n",
    "            X[i, t, char_indices[char]] = 1\n",
    "        y[i, char_indices[next_chars[i]]] = 1\n",
    "        \n",
    "    return X,y"
   ]
  },
  {
   "cell_type": "markdown",
   "metadata": {},
   "source": [
    "## Setting up our RNN\n",
    "\n",
    "With our dataset loaded in and pre-processed we can now begin setting up our RNN.  We use Keras to quickly build a single hidden layer RNN - where our hidden layer consists of LTSM modules."
   ]
  },
  {
   "cell_type": "code",
   "execution_count": 38,
   "metadata": {
    "collapsed": false
   },
   "outputs": [],
   "source": [
    "### necessary functions from the keras library\n",
    "from keras.models import Sequential\n",
    "from keras.layers import Dense, Activation, LSTM\n",
    "from keras.optimizers import RMSprop\n",
    "from keras.utils.data_utils import get_file\n",
    "import random"
   ]
  },
  {
   "cell_type": "markdown",
   "metadata": {},
   "source": [
    "Now its your turn to build a simple single-hidden layer RNN with LTSM hidden units, a softmax activation, and categorical_crossentropy loss function.  This can be constructed using just a few lines - see e.g., the [general Keras documentation](https://keras.io/getting-started/sequential-model-guide/) and the [LTSM documentation in particular](https://keras.io/layers/recurrent/) for examples of how to quickly use Keras to build neural network models.\n",
    "\n",
    "<font color='red'>__COMMENTS/SUGGESTIONS:__ maxlen not defined. for code block below with iterations -- Exception: Error when checking model input: expected lstm_input_1 to have 3 dimensions, but got array with shape (131, 7). my code running in tensorflow btw but it looks your yours has theano backend? can mention they can do something like this: https://github.com/genekogan/RobotShakespeare</font>"
   ]
  },
  {
   "cell_type": "code",
   "execution_count": 53,
   "metadata": {
    "collapsed": false
   },
   "outputs": [],
   "source": [
    "### TODO build the required RNN model: a single LSTM hidden layer with softmax activation, categorical_crossentropy loss \n",
    "model = Sequential()\n",
    "model.add(LSTM(128, input_shape=(maxlen, len(chars))))\n",
    "model.add(Dense(len(chars)))\n",
    "model.add(Activation('softmax'))\n",
    "\n",
    "optimizer = RMSprop(lr=0.01)\n",
    "model.compile(loss='categorical_crossentropy', optimizer=optimizer)"
   ]
  },
  {
   "cell_type": "markdown",
   "metadata": {},
   "source": [
    "### UNDER CONSTRUCTION"
   ]
  },
  {
   "cell_type": "markdown",
   "metadata": {},
   "source": [
    "With our RNN build we can now train our model on the input text data."
   ]
  },
  {
   "cell_type": "code",
   "execution_count": 42,
   "metadata": {
    "collapsed": true
   },
   "outputs": [],
   "source": [
    "# sampling function for RNN-based predictions\n",
    "def sample(preds):\n",
    "    # helper function to sample an index from a probability array\n",
    "    preds = np.asarray(preds).astype('float64')\n",
    "    preds = np.log(preds) \n",
    "    exp_preds = np.exp(preds)\n",
    "    preds = exp_preds / np.sum(exp_preds)\n",
    "    probas = np.random.multinomial(1, preds, 1)\n",
    "    return np.argmax(probas)"
   ]
  },
  {
   "cell_type": "code",
   "execution_count": 52,
   "metadata": {
    "collapsed": false
   },
   "outputs": [
    {
     "name": "stdout",
     "output_type": "stream",
     "text": [
      "\n",
      "----------------------------------------\n",
      "Iteration 1\n",
      "\n"
     ]
    },
    {
     "ename": "Exception",
     "evalue": "Error when checking model input: expected lstm_input_1 to have 3 dimensions, but got array with shape (131, 7)",
     "output_type": "error",
     "traceback": [
      "\u001b[0;31m---------------------------------------------------------------------------\u001b[0m",
      "\u001b[0;31mException\u001b[0m                                 Traceback (most recent call last)",
      "\u001b[0;32m<ipython-input-52-1d1bc043e981>\u001b[0m in \u001b[0;36m<module>\u001b[0;34m()\u001b[0m\n\u001b[1;32m     14\u001b[0m \u001b[0;34m\u001b[0m\u001b[0m\n\u001b[1;32m     15\u001b[0m     \u001b[0;31m# fit model to current batch\u001b[0m\u001b[0;34m\u001b[0m\u001b[0;34m\u001b[0m\u001b[0m\n\u001b[0;32m---> 16\u001b[0;31m     \u001b[0mmodel\u001b[0m\u001b[0;34m.\u001b[0m\u001b[0mfit\u001b[0m\u001b[0;34m(\u001b[0m\u001b[0mX\u001b[0m\u001b[0;34m,\u001b[0m \u001b[0my\u001b[0m\u001b[0;34m,\u001b[0m \u001b[0mbatch_size\u001b[0m\u001b[0;34m=\u001b[0m\u001b[0;36m128\u001b[0m\u001b[0;34m,\u001b[0m \u001b[0mnb_epoch\u001b[0m\u001b[0;34m=\u001b[0m\u001b[0;36m1\u001b[0m\u001b[0;34m)\u001b[0m\u001b[0;34m\u001b[0m\u001b[0m\n\u001b[0m\u001b[1;32m     17\u001b[0m     \u001b[0mstart_index\u001b[0m \u001b[0;34m=\u001b[0m \u001b[0mrandom\u001b[0m\u001b[0;34m.\u001b[0m\u001b[0mrandint\u001b[0m\u001b[0;34m(\u001b[0m\u001b[0;36m0\u001b[0m\u001b[0;34m,\u001b[0m \u001b[0mlen\u001b[0m\u001b[0;34m(\u001b[0m\u001b[0mtext\u001b[0m\u001b[0;34m)\u001b[0m \u001b[0;34m-\u001b[0m \u001b[0mmaxlen\u001b[0m \u001b[0;34m-\u001b[0m \u001b[0;36m1\u001b[0m\u001b[0;34m)\u001b[0m\u001b[0;34m\u001b[0m\u001b[0m\n\u001b[1;32m     18\u001b[0m \u001b[0;34m\u001b[0m\u001b[0m\n",
      "\u001b[0;32m/Users/alexis/anaconda/lib/python3.5/site-packages/keras/models.py\u001b[0m in \u001b[0;36mfit\u001b[0;34m(self, x, y, batch_size, nb_epoch, verbose, callbacks, validation_split, validation_data, shuffle, class_weight, sample_weight, **kwargs)\u001b[0m\n\u001b[1;32m    625\u001b[0m                               \u001b[0mshuffle\u001b[0m\u001b[0;34m=\u001b[0m\u001b[0mshuffle\u001b[0m\u001b[0;34m,\u001b[0m\u001b[0;34m\u001b[0m\u001b[0m\n\u001b[1;32m    626\u001b[0m                               \u001b[0mclass_weight\u001b[0m\u001b[0;34m=\u001b[0m\u001b[0mclass_weight\u001b[0m\u001b[0;34m,\u001b[0m\u001b[0;34m\u001b[0m\u001b[0m\n\u001b[0;32m--> 627\u001b[0;31m                               sample_weight=sample_weight)\n\u001b[0m\u001b[1;32m    628\u001b[0m \u001b[0;34m\u001b[0m\u001b[0m\n\u001b[1;32m    629\u001b[0m     def evaluate(self, x, y, batch_size=32, verbose=1,\n",
      "\u001b[0;32m/Users/alexis/anaconda/lib/python3.5/site-packages/keras/engine/training.py\u001b[0m in \u001b[0;36mfit\u001b[0;34m(self, x, y, batch_size, nb_epoch, verbose, callbacks, validation_split, validation_data, shuffle, class_weight, sample_weight)\u001b[0m\n\u001b[1;32m   1050\u001b[0m                                                            \u001b[0mclass_weight\u001b[0m\u001b[0;34m=\u001b[0m\u001b[0mclass_weight\u001b[0m\u001b[0;34m,\u001b[0m\u001b[0;34m\u001b[0m\u001b[0m\n\u001b[1;32m   1051\u001b[0m                                                            \u001b[0mcheck_batch_dim\u001b[0m\u001b[0;34m=\u001b[0m\u001b[0;32mFalse\u001b[0m\u001b[0;34m,\u001b[0m\u001b[0;34m\u001b[0m\u001b[0m\n\u001b[0;32m-> 1052\u001b[0;31m                                                            batch_size=batch_size)\n\u001b[0m\u001b[1;32m   1053\u001b[0m         \u001b[0;31m# prepare validation data\u001b[0m\u001b[0;34m\u001b[0m\u001b[0;34m\u001b[0m\u001b[0m\n\u001b[1;32m   1054\u001b[0m         \u001b[0;32mif\u001b[0m \u001b[0mvalidation_data\u001b[0m\u001b[0;34m:\u001b[0m\u001b[0;34m\u001b[0m\u001b[0m\n",
      "\u001b[0;32m/Users/alexis/anaconda/lib/python3.5/site-packages/keras/engine/training.py\u001b[0m in \u001b[0;36m_standardize_user_data\u001b[0;34m(self, x, y, sample_weight, class_weight, check_batch_dim, batch_size)\u001b[0m\n\u001b[1;32m    977\u001b[0m                                    \u001b[0mself\u001b[0m\u001b[0;34m.\u001b[0m\u001b[0minternal_input_shapes\u001b[0m\u001b[0;34m,\u001b[0m\u001b[0;34m\u001b[0m\u001b[0m\n\u001b[1;32m    978\u001b[0m                                    \u001b[0mcheck_batch_dim\u001b[0m\u001b[0;34m=\u001b[0m\u001b[0;32mFalse\u001b[0m\u001b[0;34m,\u001b[0m\u001b[0;34m\u001b[0m\u001b[0m\n\u001b[0;32m--> 979\u001b[0;31m                                    exception_prefix='model input')\n\u001b[0m\u001b[1;32m    980\u001b[0m         y = standardize_input_data(y, self.output_names,\n\u001b[1;32m    981\u001b[0m                                    \u001b[0moutput_shapes\u001b[0m\u001b[0;34m,\u001b[0m\u001b[0;34m\u001b[0m\u001b[0m\n",
      "\u001b[0;32m/Users/alexis/anaconda/lib/python3.5/site-packages/keras/engine/training.py\u001b[0m in \u001b[0;36mstandardize_input_data\u001b[0;34m(data, names, shapes, check_batch_dim, exception_prefix)\u001b[0m\n\u001b[1;32m     98\u001b[0m                                 \u001b[0;34m' to have '\u001b[0m \u001b[0;34m+\u001b[0m \u001b[0mstr\u001b[0m\u001b[0;34m(\u001b[0m\u001b[0mlen\u001b[0m\u001b[0;34m(\u001b[0m\u001b[0mshapes\u001b[0m\u001b[0;34m[\u001b[0m\u001b[0mi\u001b[0m\u001b[0;34m]\u001b[0m\u001b[0;34m)\u001b[0m\u001b[0;34m)\u001b[0m \u001b[0;34m+\u001b[0m\u001b[0;34m\u001b[0m\u001b[0m\n\u001b[1;32m     99\u001b[0m                                 \u001b[0;34m' dimensions, but got array with shape '\u001b[0m \u001b[0;34m+\u001b[0m\u001b[0;34m\u001b[0m\u001b[0m\n\u001b[0;32m--> 100\u001b[0;31m                                 str(array.shape))\n\u001b[0m\u001b[1;32m    101\u001b[0m             \u001b[0;32mfor\u001b[0m \u001b[0mj\u001b[0m\u001b[0;34m,\u001b[0m \u001b[0;34m(\u001b[0m\u001b[0mdim\u001b[0m\u001b[0;34m,\u001b[0m \u001b[0mref_dim\u001b[0m\u001b[0;34m)\u001b[0m \u001b[0;32min\u001b[0m \u001b[0menumerate\u001b[0m\u001b[0;34m(\u001b[0m\u001b[0mzip\u001b[0m\u001b[0;34m(\u001b[0m\u001b[0marray\u001b[0m\u001b[0;34m.\u001b[0m\u001b[0mshape\u001b[0m\u001b[0;34m,\u001b[0m \u001b[0mshapes\u001b[0m\u001b[0;34m[\u001b[0m\u001b[0mi\u001b[0m\u001b[0;34m]\u001b[0m\u001b[0;34m)\u001b[0m\u001b[0;34m)\u001b[0m\u001b[0;34m:\u001b[0m\u001b[0;34m\u001b[0m\u001b[0m\n\u001b[1;32m    102\u001b[0m                 \u001b[0;32mif\u001b[0m \u001b[0;32mnot\u001b[0m \u001b[0mj\u001b[0m \u001b[0;32mand\u001b[0m \u001b[0;32mnot\u001b[0m \u001b[0mcheck_batch_dim\u001b[0m\u001b[0;34m:\u001b[0m\u001b[0;34m\u001b[0m\u001b[0m\n",
      "\u001b[0;31mException\u001b[0m: Error when checking model input: expected lstm_input_1 to have 3 dimensions, but got array with shape (131, 7)"
     ]
    }
   ],
   "source": [
    "f = open('RNN_output.txt', 'w')  # create an output file to write too\n",
    "\n",
    "# train the model, output generated text after each iteration\n",
    "for iteration in range(1, 50):\n",
    "    # print update to console\n",
    "    print()\n",
    "    print('-' * 40)\n",
    "    line = 'Iteration ' + str(iteration) + '\\n'\n",
    "    print(line)\n",
    "    \n",
    "    # record iteration count\n",
    "    f.write('-' * 40 + '\\n')\n",
    "    f.write(line)         \n",
    "    \n",
    "    # fit model to current batch\n",
    "    model.fit(X, y, batch_size=128, nb_epoch=1)\n",
    "    start_index = random.randint(0, len(text) - maxlen - 1)\n",
    "\n",
    "    generated = ''\n",
    "    sentence = text[start_index: start_index + maxlen]\n",
    "    generated += sentence\n",
    "    \n",
    "    # print update to console and record\n",
    "    line = 'GENERATING WITHI SEED: \"' + sentence + '\"' + '\\n'\n",
    "    print(line)\n",
    "    f.write(line)\n",
    "    \n",
    "    # print generated sentece and record\n",
    "    print(generated + '\\n')\n",
    "    f.write(generated + '\\n')\n",
    "\n",
    "    # print predicted words\n",
    "    for i in range(400):\n",
    "        x = np.zeros((1, maxlen, len(chars)))\n",
    "        for t, char in enumerate(sentence):\n",
    "            x[0, t, char_indices[char]] = 1.\n",
    "\n",
    "        preds = model.predict(x, verbose=0)[0]\n",
    "        next_index = sample(preds)\n",
    "        next_char = indices_char[next_index]\n",
    "\n",
    "        generated += next_char\n",
    "        sentence = sentence[1:] + next_char\n",
    "\n",
    "    # print out next character to command line\n",
    "    print(generated)\n",
    "    print('\\n')\n",
    "\n",
    "    # record next character\n",
    "    f.write(generated)\n",
    "    f.write('\\n')\n",
    "    f.write('\\n')"
   ]
  },
  {
   "cell_type": "markdown",
   "metadata": {},
   "source": [
    "\n",
    "\n",
    "----------------------------------------\n",
    "Iteration 1\n",
    "\n",
    "Epoch 1/1\n",
    "31707/31707 [==============================] - 82s - loss: 2.5535    \n",
    "GENERATING WITHI SEED: \" by the underground as far as aldersgate\"\n",
    "\n",
    " by the underground as far as aldersgate\n",
    "\n",
    " by the underground as far as aldersgatevex musteot joke  a  o hen mere ih-he, hasler shese ree ther susu yon hadeve c as fimed diveathare ane the custrel menet auln, dat sskezimer thited oun thot\"suad wher and dooeedht yout the lis sress af hute so wink nighy merhecr lihemfyor renn thed t e et, u the kger bupent shes, i wuperout he wher we uesesed, whiceshed the sibe ceregebues, but a pit tud, onaos \"\"itheswoon?\"-is, watner. ank wave y\n",
    "\n",
    "\n",
    "\n",
    "----------------------------------------\n",
    "Iteration 2\n",
    "\n",
    "Epoch 1/1\n",
    "31707/31707 [==============================] - 81s - loss: 2.1084    \n",
    "GENERATING WITHI SEED: \" and found him in deep conversation with\"\n",
    "\n",
    " and found him in deep conversation with\n",
    "\n",
    " and found him in deep conversation witho dant nould norded worn geriacven, aine beming finh thored se iisherss. ank restod, to me youchs. som'ss abbwhon. miching suve outh chield time. \"bladg bat hernatls-ffrer. allde did, 'loased and wics pold?\"\"i, his rose, of soll. as has sourd bacefoble.\"\"\"im and heded well it mo thoant forte warn nats have.'she wulh een.\"mur in awround.\"indthe which pock milf in.\"\"iwedbepar.\"\"he cadmyok,' of thatw\n",
    "\n",
    "\n",
    "\n",
    "----------------------------------------\n",
    "Iteration 3\n",
    "\n",
    "Epoch 1/1\n",
    "31707/31707 [==============================] - 81s - loss: 1.9508    \n",
    "GENERATING WITHI SEED: \"in my occupation, and he shookhis head w\"\n",
    "\n",
    "in my occupation, and he shookhis head w\n",
    "\n",
    "in my occupation, and he shookhis head witwoge hesuned.\"\"yering bitan witely sued thingo dosbersasedbuperbatuly at in the where yough, thernong coar's wat ofelingly withou man at rea,hadimorisuid.\"you .thece atsokiency. whenihaind otat upock, a sters,' he watca see in the praces suatrt starrite the reemedyaturengaty seames. the friedd not, the will mer atlank holmes fronced toovers. it the wall dowr ben ank isincaner,. \"'ch cauld form n\n",
    "\n",
    "\n",
    "\n",
    "----------------------------------------\n",
    "Iteration 4\n",
    "\n",
    "Epoch 1/1\n",
    "31707/31707 [==============================] - 81s - loss: 1.9289    \n",
    "GENERATING WITHI SEED: \"yle  a scandal in bohemia i the red-head\"\n",
    "\n",
    "yle  a scandal in bohemia i the red-head\n",
    "\n",
    "yle  a scandal in bohemia i the red-head, abithed lood, and noch retouk the arespersocced explessad whem are and for selpld thewnlon what yourcowes at the so gia've righter dilares fartherlone that the loptiegle tule onthry noch, are my papeccecaid that mistre on the pad'ss were-compterpapedonny caywas seeinctouteck you towneck thinsced majesely of criers anmyoum treellerdeds do reample! \"ow, juart this efissy no pout de thaftuee to may\n",
    "\n",
    "\n",
    "\n",
    "----------------------------------------\n",
    "Iteration 5\n",
    "\n",
    "Epoch 1/1\n",
    "31707/31707 [==============================] - 81s - loss: 1.7601    \n",
    "GENERATING WITHI SEED: \"me hundreds of times.\"\"then how many are\"\n",
    "\n",
    "me hundreds of times.\"\"then how many are\n",
    "\n",
    "me hundreds of times.\"\"then how many aremarossh it me. wy pad had thomone to apst shat of seer, but he leaths at his easuratilips of the more id but his visowd the acessed thes se'sing the scis pory, bus a s'mettors.\"it is beeplense the freelst, if my rerscal a dore it his extention.\"\"was night gis on that hacs, our not my is the whin for thencames oper har od our a shill.t it plcaised rapactbeeftished i mad harkely house. \"there adsper\n",
    "\n",
    "\n",
    "\n",
    "----------------------------------------\n",
    "Iteration 6\n",
    "\n",
    "Epoch 1/1\n",
    "31707/31707 [==============================] - 83s - loss: 1.6643    \n",
    "GENERATING WITHI SEED: \"ven her notice, but there, again, i fail\"\n",
    "\n",
    "ven her notice, but there, again, i fail\n",
    "\n",
    "ven her notice, but there, again, i faile. to saved so the other amalsange absease ansculy my wo lidstane insothindicling as to cuiteffor, of conserforrich yet onle ady's scatey how mndurstand, shond was ofte bainch. mister, inlorkall devere as teit moroght rush twake tersevestyous,\" gabez over minuthacriss assteestate yet sethe natestap cair, reagely\"nes to thiche, twas to his  andes officminien. you sidgrud of verywhoph you a backatio\n",
    "\n",
    "\n",
    "\n",
    "----------------------------------------\n",
    "Iteration 7\n",
    "\n",
    "Epoch 1/1\n",
    "31707/31707 [==============================] - 83s - loss: 1.5773    \n",
    "GENERATING WITHI SEED: \"tair, some going up in hope, and some co\"\n",
    "\n",
    "tair, some going up in hope, and some co\n",
    "\n",
    "tair, some going up in hope, and some could ant youghred allonst the should bat heid all healmyouch might.\"'the long to to hrowanight alyans your odperanbepos orman, whe half i shilthen misule to befordoacegotheryould beforrow otce conce. \"inledge.\"\"wat holmes--it an what mey wall, wenk is aeso lodge my iterfing on than! mery to a strabtertown,\" said for ie lost, to cotiereachattrest. i had har. not very drown thatof to your hexisence, \n",
    "\n",
    "\n",
    "\n",
    "----------------------------------------\n",
    "Iteration 8\n",
    "\n",
    "Epoch 1/1\n",
    "31707/31707 [==============================] - 85s - loss: 1.5016    \n",
    "GENERATING WITHI SEED: \"the office, or at least in thebuilding, \"\n",
    "\n",
    "the office, or at least in thebuilding, \n",
    "\n",
    "the office, or at least in thebuilding, \"but you while his daftiaspafteeralle, appered that arr us, i through which larey.in under known to bithing your or betined to cisialupt isunt the scometting themoher st. holmes. my situase mecass.\"\"thraid if wout thas indead withouped notion the hhore and doythan yourp bire seary, from havst for for inwill but if this extrent as a becal say breare that mean if i do bethat it of spiked wits with r\n",
    "\n",
    "\n",
    "\n",
    "----------------------------------------\n",
    "Iteration 9\n",
    "\n",
    "Epoch 1/1\n",
    "31707/31707 [==============================] - 85s - loss: 1.4345    \n",
    "GENERATING WITHI SEED: \"r with you.\"iat three o'clock precisely \"\n",
    "\n",
    "r with you.\"iat three o'clock precisely \n",
    "\n",
    "r with you.\"iat three o'clock precisely of so my. \"i an. spating out of heard of itsubution to head i ductiove manyontrong.\"itares. it is encustet in the roor knowded, and you had quein has ducobe his clover.\"your clostred down eyes.\"\"whyyewwhowa care notwilp.\"\"why, with his flochai hap chair, i want, walsingfor, and i the stoeidsour at thisedred. the acaly. you might the cours and awhave was the lodge ol'mery had an a keen the ,ay is t\n",
    "\n",
    "\n",
    "\n",
    "----------------------------------------\n",
    "Iteration 10\n",
    "\n",
    "Epoch 1/1\n",
    "31707/31707 [==============================] - 85s - loss: 1.3653    \n",
    "GENERATING WITHI SEED: \" of windingstone steps, which terminated\"\n",
    "\n",
    " of windingstone steps, which terminated\n",
    "\n",
    " of windingstone steps, which terminated an entraterept the would hesled whe hagrthe outhing which the word hend i am theiesives nothingrew crats dar, of which was onrahinl to you was a grasmed and a promaping saing in sundsed and ar stagetar, risher mere from a traye i have seeth it?\"\"te was door as i mastontler agsell an adfrient to sit you crawinnwhops it i had have intrenab-aabole awonswo with her when thebets, i at thear hid foucte\n",
    "\n",
    "\n",
    "\n",
    "----------------------------------------\n",
    "Iteration 11\n",
    "\n",
    "Epoch 1/1\n",
    "31707/31707 [==============================] - 82s - loss: 1.3162    \n",
    "GENERATING WITHI SEED: \" german who writes upon bohemian paper a\"\n",
    "\n",
    " german who writes upon bohemian paper a\n",
    "\n",
    " german who writes upon bohemian paper and done of a rister. \"he had not quite my with theif cous whilh-you cablk mus my it mysirond think, we haviry and fou hourg?\"\"'ye is not threacted of that yet itwas posend folay why har much. the has as a parkacted thought a live been becore ohan, and a king, think, with dutter.with he. \"'yet what he had farill was there readed me lers of a chandat clangly my pock-fortil sick to the mores and in t\n",
    "\n",
    "\n",
    "\n",
    "----------------------------------------\n",
    "Iteration 12\n",
    "\n",
    "Epoch 1/1\n",
    "31707/31707 [==============================] - 80s - loss: 1.2696    \n",
    "GENERATING WITHI SEED: \" upof the singular tragedy of the atkins\"\n",
    "\n",
    " upof the singular tragedy of the atkins\n",
    "\n",
    " upof the singular tragedy of the atkins at is anyto statter whice heptenclance of leet though of the shoughis atecased andbusined i shouldbeel but tore harglr all remance, mank then should is anmery behinst and have never not coller had keet letters, and occame that, a rany froohh dand which lan upon been upon misn bean proght at house ihen.\"we are himwerlo halferpecele.\" it was orman, a learuned is am ever theragst could that he could\n",
    "\n",
    "\n",
    "\n",
    "----------------------------------------\n",
    "Iteration 13\n",
    "\n",
    "Epoch 1/1\n",
    "31707/31707 [==============================] - 84s - loss: 1.2307    \n",
    "GENERATING WITHI SEED: \" to be a man of strong character,with a \"\n",
    "\n",
    " to be a man of strong character,with a \n",
    "\n",
    " to be a man of strong character,with a littlecad proway dofrecere as iracted, and le me, be will a beventiveraw i rence.\" sherlock holmes shopt exfeeverven.\"\"nod the warded twicing of his hands, said thefults of herdedweat suvent in frient. cring rugwill.\"\"bure i wasing ! is alrow all mis headlyon so king dood steel, of farnome was ton the wooke of the himp cas aladsearpenting clutged undinciness teat it.\"escer ment undant. thebind, an\n",
    "\n",
    "\n",
    "\n",
    "----------------------------------------\n",
    "Iteration 14\n",
    "\n",
    "Epoch 1/1\n",
    "31707/31707 [==============================] - 84s - loss: 1.3019    \n",
    "GENERATING WITHI SEED: \"work. there is awonderful sympathy and f\"\n",
    "\n",
    "work. there is awonderful sympathy and f\n",
    "\n",
    "work. there is awonderful sympathy and from trabkentlevented.\"you wanding the settentrather man to a thy stept courho moce,. holmes' sustle at lee a a piven of joberean to. the orven with a sherauly, 'thoving haveran a three of i do noted a shepector. tray as i nove as to powet chack, it ishould mr. there encarled up ablean at longed a lid the whal  he though a mam about downnbess soe up abone to his skinged hos timple as now, what cert\n",
    "\n",
    "\n",
    "\n",
    "----------------------------------------\n",
    "Iteration 15\n",
    "\n",
    "Epoch 1/1\n",
    "31707/31707 [==============================] - 85s - loss: 2.3956    \n",
    "GENERATING WITHI SEED: \"ey do theirwork the longer time they wil\"\n",
    "\n",
    "ey do theirwork the longer time they wil\n",
    "\n",
    "ey do theirwork the longer time they will there you the gne eng or sef toburoneth turce it, from a smary pazey,  saturmajes do dory mat me caken, at i wheachavecoust me in ing.h, tdagst, me t�oeblame roke hive have enearda, be a moancornope a miskleds witt was the r shaurds, itsauge is to before it forot, his mesh beforewerewdish the itther windnpas af ithaundself o, her mages of turned, whine's arvending.\"!\" with han wheihaw of a liget\n",
    "\n",
    "\n",
    "\n",
    "----------------------------------------\n",
    "Iteration 16\n",
    "\n",
    "Epoch 1/1\n",
    "31707/31707 [==============================] - 82s - loss: 1.7463    \n",
    "GENERATING WITHI SEED: \"s hand, and he says:\"'i wish to the lord\"\n",
    "\n",
    "s hand, and he says:\"'i wish to the lord\n",
    "\n",
    "s hand, and he says:\"'i wish to the lordin arr goidsule this lessmaj, and to he has fack betfint.\"\"well, with he had say sirning your with i had queet me that a wentbed and the coficabter a maghillat left evinelwer, butbem rake unther went bethenfars in fation. you fay whell oner the rime the stey bearmany has the rraud of the mathlre of coul it, vit fime in been poistraking duyin your, tries it?\"\"i candowint to his che une inso me holm\n",
    "\n",
    "\n",
    "\n",
    "----------------------------------------\n",
    "Iteration 17\n",
    "\n",
    "Epoch 1/1\n",
    "31707/31707 [==============================] - 80s - loss: 2.3298    \n",
    "GENERATING WITHI SEED: \"ted itself, and his extreme exactness an\"\n",
    "\n",
    "ted itself, and his extreme exactness an\n",
    "\n",
    "ted itself, and his extreme exactness and but in rushed you have me to my the hare that his man shagled,awnewarek aw it appimes else of i matury mysark into when, dice shall. the  manucuring and crence with man thank subh miassiasetrate a livectiou upon your plerapied that i way stehing hal aimp ured holmes. the jancefold ow, driver in the rim. the pase to adres at cenersul. you proble-doze!\"whischners at mering to the the rast be excee\n",
    "\n",
    "\n",
    "\n",
    "----------------------------------------\n",
    "Iteration 18\n",
    "\n",
    "Epoch 1/1\n",
    "31707/31707 [==============================] - 80s - loss: 2.6641    \n",
    "GENERATING WITHI SEED: \" to the highest pitch of tension, and my\"\n",
    "\n",
    " to the highest pitch of tension, and my\n",
    "\n",
    " to the highest pitch of tension, and my pronce. thenware amoner one fincos tem, and sodeelld, then, that youreline, that sugh becourace, and a king hasitheexter tore. \"then, dip wherave know the looking was been clangh, the aldand made then. in it forniseman't. ear it in frille intake mere very -not from her. bee a cittass that we not levent the direthat very plaihishto me. that day of it lossed to thimply enting whicher the half conse\n",
    "\n",
    "\n",
    "\n",
    "----------------------------------------\n",
    "Iteration 19\n",
    "\n",
    "Epoch 1/1\n",
    "31707/31707 [==============================] - 80s - loss: 2.2157    \n",
    "GENERATING WITHI SEED: \"\"\"so i see,\" the other answered with the\"\n",
    "\n",
    "\"\"so i see,\" the other answered with the\n",
    "\n",
    "\"\"so i see,\" the other answered with the mown up mr. jabez boringd nouple tugned to hisgrult own. will be a mres. at he would der mants the -wello me might shouldous heard of carring opened, for the nter, lemwer, and if lost steas excecced theounnir, stare that you dust it in austab, writhon frochas reach,\"is heasonly enitwed. be elle clee rotaded. the mids to ma, it was not sust intadinat, wall in then, inden clots and my rickled and d\n",
    "\n",
    "\n",
    "\n",
    "----------------------------------------\n",
    "Iteration 20\n",
    "\n",
    "Epoch 1/1\n",
    "31707/31707 [==============================] - 80s - loss: 1.3349    \n",
    "GENERATING WITHI SEED: \" no doubt, doctor,\" he remarked as weeme\"\n",
    "\n",
    " no doubt, doctor,\" he remarked as weeme\n",
    "\n",
    " no doubt, doctor,\" he remarked as weemeecile that o rabelly, and a syen right and seculf of the ciny ancealuethy pound itsunteain, undever-sherd of my mantha baker to secure caped up a might sacus in his cheir cray, but it would gain front oft befaring nischaneshat asthe little dirstons a rear ununet and simppcames upfie the callelf my been as i was hwisemes, whichi  have gentle, for douple to hischan. my eell me reagstance a crier, an\n",
    "\n",
    "\n",
    "\n",
    "----------------------------------------\n",
    "Iteration 21\n",
    "\n",
    "Epoch 1/1\n",
    "31707/31707 [==============================] - 81s - loss: 1.2582    \n",
    "GENERATING WITHI SEED: \"glish window fasteners which a child cou\"\n",
    "\n",
    "glish window fasteners which a child cou\n",
    "\n",
    "glish window fasteners which a child could the h subrouca\" \"itolis.' his ' he was wave  i sustance of the fifes oot be al denting i the dsuch a beces. \"this i feltwe the edge, and i cas be tu.his rooss the swaiton i she would ghing reme reasonetown well me led--readed it say lo, that you have drive been morrow fried to fighthing beac so gest the fivery to be nown fallistraining only crairs wearit lave ' which the chase of a therectobeer\n",
    "\n",
    "\n",
    "\n",
    "----------------------------------------\n",
    "Iteration 22\n",
    "\n",
    "Epoch 1/1\n",
    "31707/31707 [==============================] - 82s - loss: 1.2151    \n",
    "GENERATING WITHI SEED: \"r street, buried among his old books, an\"\n",
    "\n",
    "r street, buried among his old books, an\n",
    "\n",
    "r street, buried among his old books, and so gold unat sured on some\" 'the fimellar it i have a bitter that theing the wure the twonactir pippen uptorse but to his room you, jake a stanting -you had fornone. theterainss that i will the nod havenvan to remore had has ppabinismar. is.  he throw did bot still we had welr. berueth out his loss wheny had deyes's had reacted in the ewspen his the me, his inems well now the ouserace.\"\"herouglo\n",
    "\n",
    "\n",
    "\n",
    "----------------------------------------\n",
    "Iteration 23\n",
    "\n",
    "Epoch 1/1\n",
    "31707/31707 [==============================] - 80s - loss: 1.1710    \n",
    "GENERATING WITHI SEED: \".\"\"your experience has been a most enter\"\n",
    "\n",
    ".\"\"your experience has been a most enter\n",
    "\n",
    ".\"\"your experience has been a most entertanged bit skne were it wastenss upon him his mands, i as a soveat as not good.\"\"quengs with his. \"'i know satwerpalled in frindings andfrom top, claner, a have table theractertains was but is brank crougly to watton wish to kever dandand and loss twice up artertan who has lepen himagetitning with ared my briet' agettiture of the re. you shork your nay leaphed de eye obury me them.\"\"your verlack, \n",
    "\n",
    "\n",
    "\n",
    "----------------------------------------\n",
    "Iteration 24\n",
    "\n",
    "Epoch 1/1\n",
    "31707/31707 [==============================] - 80s - loss: 1.1328    \n",
    "GENERATING WITHI SEED: \"us. we will beshown into the sitting-roo\"\n",
    "\n",
    "us. we will beshown into the sitting-roo\n",
    "\n",
    "us. we will beshown into the sitting-room and formas and awayy and commands as at were agopen dighimhinselwion.\"\"then it is he has an work, wask down,itsobbed down then, and fill her. that he had a latting. you conded whet gonetitelf in this street pocket. was the waithe not to the assissill, a drir contred upof a leavhy had sayp-sear he shownd with you, cherandy inteeplighed in fron cas pockets with avehourspinged in andic.in, and smel\n",
    "\n",
    "\n",
    "\n",
    "----------------------------------------\n",
    "Iteration 25\n",
    "\n",
    "Epoch 1/1\n",
    "31707/31707 [==============================] - 80s - loss: 1.1123    \n",
    "GENERATING WITHI SEED: \"scratch and tell usall about yourself, y\"\n",
    "\n",
    "scratch and tell usall about yourself, y\n",
    "\n",
    "scratch and tell usall about yourself, you dir i must the dres, andself was not one at the agerss a curesway to his chom, and i window dire.\"\"that inyoues afferrousal was purssiede alarge it his handwasthpraimes. this ablet a staxter ustare dreaces.\"\"that i had neveracy,\" said jo.'\"'ene docchropeneds in spear lives. it bustrey fromthat wo matown mystantenthank finged thess-wnitwer, comrions. which wadyon of a mabrant seaded into the hal\n",
    "\n",
    "\n",
    "\n",
    "----------------------------------------\n",
    "Iteration 26\n",
    "\n",
    "Epoch 1/1\n",
    "31707/31707 [==============================] - 80s - loss: 1.0838    \n",
    "GENERATING WITHI SEED: \"let me congratulate youonce more on the \"\n",
    "\n",
    "let me congratulate youonce more on the \n",
    "\n",
    "let me congratulate youonce more on the half to it.\"\"you mad--igpeded me wementablyquise of adving to stistle-popecbus. we standicated prowled and timelices.  save just holmes.'  he wenly sand the adventure,furning oh ithers, and the bank crused to the own her was abunly. vening firsubss, was the agear unaingle man. mr. jabizent, he vaid prrieguess vos you. as have eonsa-edousiing us the roundinge, who astartion.\"\"te,s ir is call mored \n",
    "\n",
    "\n",
    "\n",
    "----------------------------------------\n",
    "Iteration 27\n",
    "\n",
    "Epoch 1/1\n",
    "31707/31707 [==============================] - 80s - loss: 1.0630    \n",
    "GENERATING WITHI SEED: \"d. besides, we must be prompt, for this \"\n",
    "\n",
    "d. besides, we must be prompt, for this \n",
    "\n",
    "d. besides, we must be prompt, for this anyone ofthingary. you day, and now, of the finged, part do might glant only my friendy rughi have your head inverousexormeded in ergatich of temple to the the edwerdous, your majittoness ccosch cape.flenty prentle, nour,inged which well mightarl moself outqo of comminion, whichere hemegliged clame of a shouch of my beinghoun, and the house. \"thisit to were down two and--how a do a were there it i\n",
    "\n",
    "\n",
    "\n",
    "----------------------------------------\n",
    "Iteration 28\n",
    "\n",
    "Epoch 1/1\n",
    "31707/31707 [==============================] - 80s - loss: 1.0433    \n",
    "GENERATING WITHI SEED: \"ng, he came down into the office just th\"\n",
    "\n",
    "ng, he came down into the office just th\n",
    "\n",
    "ng, he came down into the office just that there will down the welver?\"\"i his \"inde, it is feetbe could to hind for some cantalfweally paper.\"at you have a speet.\"then. to you then, and smarting cluttanty urear up from some long at rews was lett poscalown'thryweed you have posene wherher which the rusenow at hould nor brought up are that you cay i hear latters.\"\"inianted and advent.\"not to hima. thearl me account of the 'ench.\"\"the read\n",
    "\n",
    "\n",
    "\n",
    "----------------------------------------\n",
    "Iteration 29\n",
    "\n",
    "Epoch 1/1\n",
    "31707/31707 [==============================] - 80s - loss: 1.0254    \n",
    "GENERATING WITHI SEED: \"any in the whole country as were brought\"\n",
    "\n",
    "any in the whole country as were brought\n",
    "\n",
    "any in the whole country as were brought.\"\"aw this lare of hoh, and secill as i his for thing visit crame of anance of which i prove to ment with whencon some much was not sements was as he dustation, that you did mr. holmes. but is musty wast ent ong a withous precoust ainsterem. it was thungave faction annotraundationess upon the work were butglay on overy chairmis with the day aconpiane and rud his man cas if she woulds as take but i\n",
    "\n",
    "\n",
    "\n",
    "----------------------------------------\n",
    "Iteration 30\n",
    "\n",
    "Epoch 1/1\n",
    "31707/31707 [==============================] - 80s - loss: 1.0158    \n",
    "GENERATING WITHI SEED: \"o settle with mr.john clay,\" said holmes\"\n",
    "\n",
    "o settle with mr.john clay,\" said holmes\n",
    "\n",
    "o settle with mr.john clay,\" said holmes the rood, fist tiln to be ara berow that theremary musiness was and drouncedbeethed men. but holmes, \"i down des head up the parr, as we raid me as jocent clank, said he, was a mont dear that we everposce mask mr. mery bink we sawwreeiny ear be some light said that which would ching from the general of wheesee sity andlight said wish waywo nothing andaghalmy hemets itsraftions.we will. but indonf\n",
    "\n",
    "\n",
    "\n",
    "----------------------------------------\n",
    "Iteration 31\n",
    "\n",
    "Epoch 1/1\n",
    "31707/31707 [==============================] - 81s - loss: 0.9992    \n",
    "GENERATING WITHI SEED: \"h voice and astrongly marked german acce\"\n",
    "\n",
    "h voice and astrongly marked german acce\n",
    "\n",
    "h voice and astrongly marked german accentle, shailhers, and she she walchincribes into hear you hole you troun oning your anythat been uptheincy housy, mr. mid not me i was sevencone ville edswoh, and she-have poan the extrack her mode up tistppo, a ropent very virally hand--youd hal seven, it is nod in of my plosing on the laytern street. you are the chincly, buti am a man sucton.\"\"whyan divehin am aonquefice first are auching was but\n",
    "\n",
    "\n",
    "\n",
    "----------------------------------------\n",
    "Iteration 32\n",
    "\n",
    "Epoch 1/1\n",
    "31707/31707 [==============================] - 80s - loss: 0.9832    \n",
    "GENERATING WITHI SEED: \"dmit that thefacts are, to the best of m\"\n",
    "\n",
    "dmit that thefacts are, to the best of m\n",
    "\n",
    "dmit that thefacts are, to the best of my gromnt, which is alme in fronts and fom may.\"in they shem condedved his brion?\"with with them, and take theirnisume adlor, and i  thit ill, but holmes from a donet out of wholhin for theirs. thost be affire of which, are of much upon his badiffectles, and he open, mr. holmes, my ourdering mysomerething for as ecomere herd. with trave mirutate a occable of bat i goowery viss and-with useverly. \"h\n",
    "\n",
    "\n",
    "\n",
    "----------------------------------------\n",
    "Iteration 33\n",
    "\n",
    "Epoch 1/1\n",
    "31707/31707 [==============================] - 80s - loss: 1.3365    \n",
    "GENERATING WITHI SEED: \"d  the adventure of the engineer's thumb\"\n",
    "\n",
    "d  the adventure of the engineer's thumb\n",
    "\n",
    "d  the adventure of the engineer's thumble, it would has to me a bould now appersining work a five to assow the alt of poss eviency. his rust, ote came to do. and you condeythan wilson. he has as i have light of gle marking.\"\"then, wous to someted deal my bosiis, who hoperest the, there waid as i the eced that i keen i a count of the led, at therefore i raus exculed for the edreadpost me that the fire of the procies of herphown beforzed\n",
    "\n",
    "\n",
    "\n",
    "----------------------------------------\n",
    "Iteration 34\n",
    "\n",
    "Epoch 1/1\n",
    "31707/31707 [==============================] - 80s - loss: 1.1664    \n",
    "GENERATING WITHI SEED: \"drawers, as if the lady had hurriedly ra\"\n",
    "\n",
    "drawers, as if the lady had hurriedly ra\n",
    "\n",
    "drawers, as if the lady had hurriedly ranged as ipr, and the reture a wiswer, hoh good-fint blankdid followanver--occh tay note this verac satted.\"youre your sappered the strifidinccugetlemelor, and thing to that. me i haven the plost that endbeivs an it got ge!\" aquare a marentely an ebren spiment rome at paints, and if ttuneing was sould as this lattedack his chotored an the king has non who her chink hefecies is she ed ;;;; fod.\"\"my \n",
    "\n",
    "\n",
    "\n",
    "----------------------------------------\n",
    "Iteration 35\n",
    "\n",
    "Epoch 1/1\n",
    "31707/31707 [==============================] - 80s - loss: 3.6463    \n",
    "GENERATING WITHI SEED: \"dred and fifty guineas apiece. there's m\"\n",
    "\n",
    "dred and fifty guineas apiece. there's m\n",
    "\n",
    "dred and fifty guineas apiece. there's me : see she has anythat ho may c:ul; was; bu;:; :jqu:ation.\"\"ler: was lown therpege againhtrught an as the mornings.: to: :arked to the hadays m::was not upand that h; reman::nquiteled be sound which tjust: go;d the rusi: : pr: of corm: d: andorsisivein::anting were he has alapper.'\"why bi;dbe him the ::;jj;s: \"ay i  eyesthe has meju:ccti:;\"what did heln t::i:it::f: rem: ons cours. a montq;e.\"\"cla\n",
    "\n",
    "\n",
    "\n",
    "----------------------------------------\n",
    "Iteration 36\n",
    "\n",
    "Epoch 1/1\n",
    "31707/31707 [==============================] - 80s - loss: 3.6775    \n",
    "GENERATING WITHI SEED: \" later the voiceof holmes from within as\"\n",
    "\n",
    " later the voiceof holmes from within as\n",
    "\n",
    " later the voiceof holmes from within as a bxpenqje a man whichjocase. thequay hour of lotjleac spsjective.jjestj: he cared and rushed to his keen?\"\"junti-j; andjeer upofjqjeisecqualdjor,s. a nior, whatjquefurly o: a constainingle the procquerars andshe from ham me.\"\"wjanjoning ia-\"me i hj:j:iting :nanch that take sume to justjowits and, he ojec-agstanjes a-soment horm, for ofqjjetled.\"\"ims bqueet stick into bour had merejesting a cu:je\n",
    "\n",
    "\n",
    "\n",
    "----------------------------------------\n",
    "Iteration 37\n",
    "\n",
    "Epoch 1/1\n",
    "31707/31707 [==============================] - 80s - loss: 3.6023    \n",
    "GENERATING WITHI SEED: \"utting his hands into his pockets, he st\"\n",
    "\n",
    "utting his hands into his pockets, he st\n",
    "\n",
    "utting his hands into his pockets, he strens?\"\"i was murd in douber wh-chai-jain, some in voke a colouth!; sajust up to his a-faring -dischail, the twimes, and i was cas merly. which i -;and w-yezingy there was --differ them of the business i-;e-follows marquarqzer-papqjere ta-kensta, the from ut madse-falmy b-h--dy ey.hid mi-;elion's, withquarkion done w;-evinccucin-kinge herustance of thusxaction to hen?\"\"sow-h-aded dor-bettreed, as i\n",
    "\n",
    "\n",
    "\n",
    "----------------------------------------\n",
    "Iteration 38\n",
    "\n",
    "Epoch 1/1\n",
    "31707/31707 [==============================] - 80s - loss: 1.3881    \n",
    "GENERATING WITHI SEED: \"heoreticaland fantastic, but he has the \"\n",
    "\n",
    "heoreticaland fantastic, but he has the \n",
    "\n",
    "heoreticaland fantastic, but he has the ed werk. as this look in for. he condswhat of everious fill to she little advanit and braincce upfinmown theyoudgl, apple?\"\"i he. \"and which she extreets with thisgation, what i was to the arer.'\"''stopt therultly healfelf of therewaid to may suct you will not said.\"\"we whall come i was the thought seces weild do to you.\" have asoveing on thetefecestheblinber.\" this indeady see with have hrowed a \n",
    "\n",
    "\n",
    "\n",
    "----------------------------------------\n",
    "Iteration 39\n",
    "\n",
    "Epoch 1/1\n",
    "31707/31707 [==============================] - 81s - loss: 1.2817    \n",
    "GENERATING WITHI SEED: \"ow where tofind the man himself. he'll c\"\n",
    "\n",
    "ow where tofind the man himself. he'll c\n",
    "\n",
    "ow where tofind the man himself. he'll clatte! which; writhous from an alls had were; glands, then.\"\"as, it is it in ttio; of the flancy.\"\"for, jone with ; it was the nory notial wound scally lory, and red fricate one andectousclor.\"\"no courd her attoplorstebsomeraccivay, it was way:;gobser from the c;mans.\"\"well, you do youe a;ssisiess and i took my rough a cabraw very; y;s well the man a smartions and my;emerly to but and with you. he\n",
    "\n",
    "\n",
    "\n",
    "----------------------------------------\n",
    "Iteration 40\n",
    "\n",
    "Epoch 1/1\n",
    "31707/31707 [==============================] - 80s - loss: 2.0873    \n",
    "GENERATING WITHI SEED: \"nsist. you mustnot interfere, come what \"\n",
    "\n",
    "nsist. you mustnot interfere, come what \n",
    "\n",
    "nsist. you mustnot interfere, come what ho oter tronendome ;en; b;a trair an; briony ; i amusted.\" it is gradely indefesecto king his ;ever counts that i; i mjst tise; anjecto g; in fact.e;.'\"'s the ?\"\"why;es in whovery. stair mare.\"\"anjed twojacjs houseta;e, be go. just naw f;andinacon. le creasjost and with yourele,  ; i not nod-e, pronicalucted; buil, ; askee with his reelly hemas assured,\" said no danje; if tay joj;se a best under t\n",
    "\n",
    "\n",
    "\n",
    "----------------------------------------\n",
    "Iteration 41\n",
    "\n",
    "Epoch 1/1\n",
    "31707/31707 [==============================] - 81s - loss: 1.6225    \n",
    "GENERATING WITHI SEED: \" make it clear toyou. now,\" he said as h\"\n",
    "\n",
    " make it clear toyou. now,\" he said as h\n",
    "\n",
    " make it clear toyou. now,\" he said as hear. was a centsomethor holmjjuiced. \"jjeajes.energetiar noter agnelfwor-jan in'\"wejanjojesjost two just all gimenor promejumen djecalay. nand dirs!y, so \"thes n; 'tjirs. that i have cought huld-fjjuiow?\"\"by harijatterjuiines adsterhisary an youeja?s's warjedoujajestyoujejeis. of chafj waston thejuin, it wan ojejest strejected, \"she jjinstly andans, jujustedijoce just ojeth joones, ; we had not ju\n",
    "\n",
    "\n",
    "\n",
    "----------------------------------------\n",
    "Iteration 42\n",
    "\n",
    "Epoch 1/1\n",
    "31707/31707 [==============================] - 82s - loss: 1.9212    \n",
    "GENERATING WITHI SEED: \"his ebook or online at www.gutenberg.net\"\n",
    "\n",
    "his ebook or online at www.gutenberg.net\n",
    "\n",
    "his ebook or online at www.gutenberg.net at a couch help the me. it anjetjly and he man as it had inwajebreoulddress.he satures. you have you hjonetit onjerest. a mejad's beciagoupst so should bjeps were the cassorbed with his handed by hou;d ram was a rejuited with a mijuge adon the ser, and theeljes to-me to pieblet, a;d tjock borojes gjatermanteloce. to i thull, and i wajelves,just then joincy house.\"\"he has a sinjly and-pejecleds wh\n",
    "\n",
    "\n",
    "\n",
    "----------------------------------------\n",
    "Iteration 43\n",
    "\n",
    "Epoch 1/1\n",
    "31707/31707 [==============================] - 83s - loss: 1.2796    \n",
    "GENERATING WITHI SEED: \"on. he was doing something in the cellar\"\n",
    "\n",
    "on. he was doing something in the cellar\n",
    "\n",
    "on. he was doing something in the cellar evening a doo ma. sarm to the hurfection.\"\"well, as in a cal anstaple the sent into the mormant. you may cherount doccouth passedince. butbe cains of hispraied and regat to she hhous, and so \"at?'me i am such itallsuration.\"\"in this adventalys mr. 'the could uren to am do to his any's plainins, be out out her who haven tole up to care. thenk i rause,\" said he, i had neach you done marking part on\n",
    "\n",
    "\n",
    "\n",
    "----------------------------------------\n",
    "Iteration 44\n",
    "\n",
    "Epoch 1/1\n",
    "31707/31707 [==============================] - 82s - loss: 1.0274    \n",
    "GENERATING WITHI SEED: \"as.\"\"then, good-night, your majesty, and\"\n",
    "\n",
    "as.\"\"then, good-night, your majesty, and\n",
    "\n",
    "as.\"\"then, good-night, your majesty, and cape.\"\"why,ho gaine at a cable of the spick is as im, ribsed.\"\"then, very pocis. but i havery to. they well my aneters, and i glimy fimite. \"fo will the ross, and i could har many, behon, man mr. cometer the stule be minutes his hann. your had me crest me provion whichin thisg of antis partion some a booker whosees in the daudstaking ion firning his hand upon the casseleas and rushing, so it was \n",
    "\n",
    "\n",
    "\n",
    "----------------------------------------\n",
    "Iteration 45\n",
    "\n",
    "Epoch 1/1\n",
    "31707/31707 [==============================] - 85s - loss: 1.0494    \n",
    "GENERATING WITHI SEED: \"es out at other times, except when she s\"\n",
    "\n",
    "es out at other times, except when she s\n",
    "\n",
    "es out at other times, except when she stont nothisacing and an some sole happ mis curter. it sto the red-headed metis to bethings. not infirnads to apply to gettones. \"toy salk is feat helphey. he was should for, and i ruinst sass faced houce i maventer to my way newn fich at the ocemping at puther, and thrown inence, at the couther the lestezaket.edssategetto in hers, andis coutt encled with a smardwesable,\" sare to get me, mr. upon y\n",
    "\n",
    "\n",
    "\n",
    "----------------------------------------\n",
    "Iteration 46\n",
    "\n",
    "Epoch 1/1\n",
    "31707/31707 [==============================] - 85s - loss: 1.0002    \n",
    "GENERATING WITHI SEED: \"hich i havejust called myself is not exa\"\n",
    "\n",
    "hich i havejust called myself is not exa\n",
    "\n",
    "hich i havejust called myself is not exartegnain drightanned a spentled a littingary mys and thought as in a cas  i had know and pustingousafting uponpirial asp-man a bos the darks.\"\"i the naws wagate you drew sfeciy, and came out upon in theh?\"\"but that you have drotures, neasued phairt and asprrishe of hough myselineaso me friend.\"\"well, janey lorg. i was reusone.\"\"we have up a trown nither, do paust to be has lett their upost you car\n",
    "\n",
    "\n",
    "\n",
    "----------------------------------------\n",
    "Iteration 47\n",
    "\n",
    "Epoch 1/1\n",
    "31707/31707 [==============================] - 86s - loss: 0.9701    \n",
    "GENERATING WITHI SEED: \"irelight strikes it,the leather is score\"\n",
    "\n",
    "irelight strikes it,the leather is score\n",
    "\n",
    "irelight strikes it,the leather is score, floston.\"\"ben was tondaking har to be incunes tweentis broud mon,\" out it was teer. than of hough it is almey theirs. then was istentant, be our ven out all, pliniple staptsed part the lattered.\"wrendently an\" ave a asvering andthat siteman allves caund abons i have the toly anterfid it, all, and, he wast work but her a shall of having cluttee has should be untily love. when oh,\" he could yes. a\n",
    "\n",
    "\n",
    "\n",
    "----------------------------------------\n",
    "Iteration 48\n",
    "\n",
    "Epoch 1/1\n",
    "31707/31707 [==============================] - 85s - loss: 0.9520    \n",
    "GENERATING WITHI SEED: \"ued our strange visitor. \"theaugust pers\"\n",
    "\n",
    "ued our strange visitor. \"theaugust pers\n",
    "\n",
    "ued our strange visitor. \"theaugust personccal knoug i gold posthlf, and i had deephave onl the halme conder saturd in the more the worde sure alat cabl, the nor offon advertament it at useusang to the trung of my praced up teat. you, vinch i over, and is came of the powing in as there moked and i read of the woaking anewhis back that only cas ince of ohe pousrily, and to will be into monnit genting way which i sask to fisurtant, for sh\n",
    "\n",
    "\n",
    "\n",
    "----------------------------------------\n",
    "Iteration 49\n",
    "\n",
    "Epoch 1/1\n",
    "31707/31707 [==============================] - 85s - loss: 0.9333    \n",
    "GENERATING WITHI SEED: \"t, blazing, fiery red. now, if you cared\"\n",
    "\n",
    "t, blazing, fiery red. now, if you cared\n",
    "\n",
    "t, blazing, fiery red. now, if you cared me that he had -yecchoug behindlable anmest?\"\"i askay of the red-have ptccked. it wastens, it is down an thetection, holmes should polet of which gos to beer. if rusining gerear--at ove to be readsoyn' leture of owinchise that we rench with thedparing over time. we had to may.', dandy was bleting andbetting of a shining of the pooked all gait pl-ss of other vionts to the casscarees, that steps me"
   ]
  }
 ],
 "metadata": {
  "anaconda-cloud": {},
  "kernelspec": {
   "display_name": "Python [conda root]",
   "language": "python",
   "name": "conda-root-py"
  },
  "language_info": {
   "codemirror_mode": {
    "name": "ipython",
    "version": 2
   },
   "file_extension": ".py",
   "mimetype": "text/x-python",
   "name": "python",
   "nbconvert_exporter": "python",
   "pygments_lexer": "ipython2",
   "version": "2.7.12"
  }
 },
 "nbformat": 4,
 "nbformat_minor": 0
}
