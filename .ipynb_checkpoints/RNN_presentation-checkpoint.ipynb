{
 "cells": [
  {
   "cell_type": "markdown",
   "metadata": {
    "slideshow": {
     "slide_type": "slide"
    }
   },
   "source": [
    "# Recurrent Neural Networks - introduction"
   ]
  },
  {
   "cell_type": "markdown",
   "metadata": {
    "slideshow": {
     "slide_type": "slide"
    }
   },
   "source": [
    "# Supervised learning problems"
   ]
  },
  {
   "cell_type": "markdown",
   "metadata": {
    "slideshow": {
     "slide_type": "subslide"
    }
   },
   "source": [
    "# Supervised learning problems\n",
    "<p>\n",
    "<img src = \"https://github.com/jermwatt/RNN_demo/blob/dev/images/wright_bros_face_detect.png?raw=true\",width=600>\n",
    "</p>"
   ]
  },
  {
   "cell_type": "markdown",
   "metadata": {
    "slideshow": {
     "slide_type": "fragment"
    }
   },
   "source": [
    "- typically pattern recognition using vector input/output "
   ]
  },
  {
   "cell_type": "markdown",
   "metadata": {
    "slideshow": {
     "slide_type": "fragment"
    }
   },
   "source": [
    "- e.g., object detection (a classification problem) learn to distinguish image patches with e.g., a human face vs all others (image from [[1]](#bib_cell))"
   ]
  },
  {
   "cell_type": "markdown",
   "metadata": {
    "slideshow": {
     "slide_type": "subslide"
    }
   },
   "source": [
    "# Supervised learning problems\n",
    "\n",
    "<p>\n",
    "<img src=\"https://github.com/jermwatt/RNN_demo/blob/dev/images/lincoln_pixel_values.png?raw=true\" width=600,allign=\"middle\"/>\n",
    "</p>"
   ]
  },
  {
   "cell_type": "markdown",
   "metadata": {
    "slideshow": {
     "slide_type": "fragment"
    }
   },
   "source": [
    "- **Input:** vector - e.g., a 64 x 64 $\\longrightarrow$ $64^2$ x\n",
    "1 vector"
   ]
  },
  {
   "cell_type": "markdown",
   "metadata": {
    "slideshow": {
     "slide_type": "fragment"
    }
   },
   "source": [
    "- **Outputs:** labels - integer valued  (image from [[5]](#bib_cell))"
   ]
  },
  {
   "cell_type": "markdown",
   "metadata": {
    "slideshow": {
     "slide_type": "slide"
    }
   },
   "source": [
    "# More complex problems"
   ]
  },
  {
   "cell_type": "markdown",
   "metadata": {
    "slideshow": {
     "slide_type": "subslide"
    }
   },
   "source": [
    "# More complex patterns"
   ]
  },
  {
   "cell_type": "markdown",
   "metadata": {
    "slideshow": {
     "slide_type": "fragment"
    }
   },
   "source": [
    "Many supervised learning problems have input/output pairs that are *sequences*, e.g.,"
   ]
  },
  {
   "cell_type": "markdown",
   "metadata": {
    "slideshow": {
     "slide_type": "subslide"
    }
   },
   "source": [
    "# More complex patterns\n",
    "\n",
    "- **machine translation:** input is a sequence of words in one language (e.g., English) and outputs a sequence of words in another language (e.g., Spanish). "
   ]
  },
  {
   "cell_type": "markdown",
   "metadata": {
    "slideshow": {
     "slide_type": "fragment"
    }
   },
   "source": [
    "    - I do not like cats. --> Los gatos me cae mal."
   ]
  },
  {
   "cell_type": "markdown",
   "metadata": {
    "slideshow": {
     "slide_type": "subslide"
    }
   },
   "source": [
    "# More complex patterns\n",
    "\n",
    "- **automatic speech recognition:** input is a sequence (a segment of raw audio) and outputs a sequence of letters (a word or sentence)"
   ]
  },
  {
   "cell_type": "markdown",
   "metadata": {
    "slideshow": {
     "slide_type": "fragment"
    }
   },
   "source": [
    "<p>\n",
    "<img src=\"https://github.com/jermwatt/RNN_demo/blob/dev/images/audio_to_text.png?raw=true\" width=900,allign=\"middle\"/>\n",
    "</p>"
   ]
  },
  {
   "cell_type": "markdown",
   "metadata": {
    "slideshow": {
     "slide_type": "subslide"
    }
   },
   "source": [
    "# More complex patterns\n",
    "\n",
    "- **time series prediction:** input an sequence (past series values), output a scalar (future value of series) or  sequence (multiple future values)"
   ]
  },
  {
   "cell_type": "code",
   "execution_count": 1,
   "metadata": {
    "collapsed": false,
    "slideshow": {
     "slide_type": "subslide"
    }
   },
   "outputs": [
    {
     "data": {
      "image/png": "[encoded data removed]",
      "text/plain": [
       "<matplotlib.figure.Figure at 0x1066bcc10>"
      ]
     },
     "metadata": {},
     "output_type": "display_data"
    }
   ],
   "source": [
    "### Load in necessary libraries for data input and normalization\n",
    "%matplotlib inline\n",
    "import numpy as np\n",
    "import matplotlib.pyplot as plt\n",
    "\n",
    "### load in and normalize the dataset - # PUT LINK TO DATA\n",
    "series = np.loadtxt('datasets/apple_prices.csv')\n",
    "\n",
    "# lets take a look at our time series\n",
    "plt.plot(series,c = 'k')\n",
    "plt.axis('off');"
   ]
  },
  {
   "cell_type": "markdown",
   "metadata": {
    "slideshow": {
     "slide_type": "subslide"
    }
   },
   "source": [
    "# More complex patterns\n",
    "\n",
    "- **automatic text generation:** input a sequence (text corpus), output a sequence (new predicted characters)"
   ]
  },
  {
   "cell_type": "markdown",
   "metadata": {
    "slideshow": {
     "slide_type": "fragment"
    }
   },
   "source": [
    "- [Generate wacky sentences](http://www.cs.toronto.edu/~ilya/rnn.html) with this academic RNN text generator\n",
    "\n",
    "- Various twitter bots that tweet automatically generated text like [this one](http://tweet-generator-alex.herokuapp.com/).\n",
    "\n",
    "- the [NanoGenMo](https://github.com/NaNoGenMo/2016) annual contest to automatically produce a 50,000+ novel automatically\n",
    "\n",
    "- [Robot Shakespear](https://github.com/genekogan/RobotShakespeare) a text generator that automatically produces Shakespear-esk sentences"
   ]
  },
  {
   "cell_type": "markdown",
   "metadata": {
    "slideshow": {
     "slide_type": "subslide"
    }
   },
   "source": [
    "# Problem (!)"
   ]
  },
  {
   "cell_type": "markdown",
   "metadata": {
    "slideshow": {
     "slide_type": "fragment"
    }
   },
   "source": [
    "\n",
    "- common supervised learning models (e.g., feedforward networks) can't deal with sequence-based input/output pairs directly"
   ]
  },
  {
   "cell_type": "markdown",
   "metadata": {
    "slideshow": {
     "slide_type": "fragment"
    }
   },
   "source": [
    "- Recurrent Neural Networks - a supervised learning model built specifically to handle with **ordered sequence** based input/output"
   ]
  },
  {
   "cell_type": "markdown",
   "metadata": {
    "slideshow": {
     "slide_type": "slide"
    }
   },
   "source": [
    "# Modeling sequence-based supervised learning problems"
   ]
  },
  {
   "cell_type": "markdown",
   "metadata": {
    "slideshow": {
     "slide_type": "slide"
    }
   },
   "source": [
    "# Time series prediction"
   ]
  },
  {
   "cell_type": "markdown",
   "metadata": {
    "slideshow": {
     "slide_type": "subslide"
    }
   },
   "source": [
    "# Time series prediction"
   ]
  },
  {
   "cell_type": "code",
   "execution_count": 2,
   "metadata": {
    "collapsed": false,
    "slideshow": {
     "slide_type": "fragment"
    }
   },
   "outputs": [
    {
     "data": {
      "image/png": "[encoded data removed]",
      "text/plain": [
       "<matplotlib.figure.Figure at 0x10669bed0>"
      ]
     },
     "metadata": {},
     "output_type": "display_data"
    }
   ],
   "source": [
    "### Load in necessary libraries for data input and normalization\n",
    "%matplotlib inline\n",
    "import numpy as np\n",
    "import matplotlib.pyplot as plt\n",
    "\n",
    "### load in and normalize the dataset\n",
    "series = np.loadtxt('datasets/apple_prices.csv')\n",
    "\n",
    "# lets take a look at our time series\n",
    "plt.plot(series,c = 'k')\n",
    "plt.axis('off');"
   ]
  },
  {
   "cell_type": "markdown",
   "metadata": {
    "slideshow": {
     "slide_type": "fragment"
    }
   },
   "source": [
    "- A time series is a sequence of numbers $ \\mathbf{s} = \\langle s_{0},s_{1},s_{2},...,s_{P}\\rangle$"
   ]
  },
  {
   "cell_type": "markdown",
   "metadata": {
    "slideshow": {
     "slide_type": "subslide"
    }
   },
   "source": [
    "# Time series prediction: training phase\n",
    "\n",
    "- A time series is a sequence of numbers $s_{0},s_{1},s_{2},...,s_{P}$"
   ]
  },
  {
   "cell_type": "markdown",
   "metadata": {
    "slideshow": {
     "slide_type": "fragment"
    }
   },
   "source": [
    "- $s_{p}$ is the numerical value of the time series at time period $p$ and where $P$ is the total length of the series. "
   ]
  },
  {
   "cell_type": "markdown",
   "metadata": {
    "slideshow": {
     "slide_type": "fragment"
    }
   },
   "source": [
    "- **input:** sequence of $T$ previous values \n",
    "- **output:** next value(s) in series"
   ]
  },
  {
   "cell_type": "markdown",
   "metadata": {
    "slideshow": {
     "slide_type": "fragment"
    }
   },
   "source": [
    "- this is a **regression problem** - where input/output are ordered sequences"
   ]
  },
  {
   "cell_type": "markdown",
   "metadata": {
    "slideshow": {
     "slide_type": "subslide"
    }
   },
   "source": [
    "# Training phase - sliding window"
   ]
  },
  {
   "cell_type": "markdown",
   "metadata": {
    "slideshow": {
     "slide_type": "fragment"
    }
   },
   "source": [
    "- produce training set by sliding a window over series and collecting input/output pairs to learn on"
   ]
  },
  {
   "cell_type": "markdown",
   "metadata": {
    "slideshow": {
     "slide_type": "fragment"
    }
   },
   "source": [
    "<p>\n",
    "<img src=\"https://github.com/jermwatt/RNN_demo/blob/dev/images/timeseries_windowing_training.gif?raw=true\" width=1000/>\n",
    "</p>"
   ]
  },
  {
   "cell_type": "markdown",
   "metadata": {
    "slideshow": {
     "slide_type": "subslide"
    }
   },
   "source": [
    "# Training phase - sliding window\n",
    "<p>\n",
    "<img src=\"https://github.com/jermwatt/RNN_demo/blob/dev/images/timeseries_windowing_training.gif?raw=true\" width=1000/>\n",
    "</p>"
   ]
  },
  {
   "cell_type": "markdown",
   "metadata": {
    "slideshow": {
     "slide_type": "fragment"
    }
   },
   "source": [
    "- produce training set by sliding a window over series and collecting input/output pairs to learn on"
   ]
  },
  {
   "cell_type": "markdown",
   "metadata": {
    "slideshow": {
     "slide_type": "fragment"
    }
   },
   "source": [
    "$$\\begin{array}{c|c}\n",
    "\\text{Input} & \\text{Output}\\\\\n",
    "\\hline \\color{CornflowerBlue} {\\left[s_{0},s_{1},s_{2},s_{3}\\right]} & \\color{Goldenrod}{ s_{4}} \\\\\n",
    "\\ \\color{CornflowerBlue} {\\left[s_{1},s_{2},s_{3},s_{4}\\right] } & \\color{Goldenrod} {s_{5} } \\\\\n",
    "\\color{CornflowerBlue}  {\\vdots} & \\color{Goldenrod} {\\vdots}\\\\\n",
    "\\color{CornflowerBlue} { \\left[s_{P-4},s_{P-3},s_{P-2},s_{P-1}\\right] } & \\color{Goldenrod} {s_{P}}\n",
    "\\end{array}$$"
   ]
  },
  {
   "cell_type": "markdown",
   "metadata": {
    "slideshow": {
     "slide_type": "subslide"
    }
   },
   "source": [
    "# Testing phase - sliding window (again!)\n",
    "\n",
    "<p>\n",
    "<img src=\"https://github.com/jermwatt/RNN_demo/blob/dev/images/timeseries_windowing.gif?raw=true\" width=1000/>\n",
    "</p>"
   ]
  },
  {
   "cell_type": "markdown",
   "metadata": {
    "slideshow": {
     "slide_type": "fragment"
    }
   },
   "source": [
    "$$\\begin{array}{c|c}\n",
    "\\hline\n",
    "\\text{Input} & \\text{Output}\\\\\n",
    "\\color{CornflowerBlue} { \\left[s_{P-3},s_{P-2},s_{P-1},s_{P}\\right] } & \\color{Red} {\\hat{s}_{P+1}} \\\\\n",
    " \\color{CornflowerBlue} {\\left[s_{P-2},s_{P-1},s_{P},{\\hat{s}_{P+1}}\\right]} & \\color{Red} {\\hat{s}_{P+2}} \\\\\n",
    "\\ \\color{CornflowerBlue} {\\left[s_{P-1},s_{P},{\\hat{s}_{P+1}},{\\hat{s}_{P+2}}\\right] } & \\color{Red} {\\hat{s}_{P+3}}  \\\\\n",
    "\\ \\color{CornflowerBlue} {\\left[s_{P},{\\hat{s}_{P+1}},{\\hat{s}_{P+2}},{\\hat{s}_{P+3}}\\right] } & \\color{Red} {\\hat{s}_{P+4}}  \\\\\n",
    "\\ \\color{CornflowerBlue} {\\left[{\\hat{s}_{P+1}},{\\hat{s}_{P+2}},{\\hat{s}_{P+3}},{\\hat{s}_{P+4}}\\right] } & \\color{Red} {\\hat{s}_{P+5}}  \\\\\n",
    "\\color{CornflowerBlue}  {\\vdots} & \\color{Red} {\\vdots}\\\\\n",
    "\\end{array}$$"
   ]
  },
  {
   "cell_type": "markdown",
   "metadata": {
    "slideshow": {
     "slide_type": "fragment"
    }
   },
   "source": [
    "- when using previously predicted values as input supervised learning is referred to as a **generative model**"
   ]
  },
  {
   "cell_type": "markdown",
   "metadata": {
    "slideshow": {
     "slide_type": "subslide"
    }
   },
   "source": [
    "# Modeling sequence-based supervised learning problems"
   ]
  },
  {
   "cell_type": "markdown",
   "metadata": {
    "slideshow": {
     "slide_type": "subslide"
    }
   },
   "source": [
    "# Text generation"
   ]
  },
  {
   "cell_type": "markdown",
   "metadata": {
    "slideshow": {
     "slide_type": "subslide"
    }
   },
   "source": [
    "# Text generation: training phase"
   ]
  },
  {
   "cell_type": "code",
   "execution_count": 1,
   "metadata": {
    "collapsed": false
   },
   "outputs": [
    {
     "name": "stdout",
     "output_type": "stream",
     "text": [
      " i have seldom heard him mention her under any other name. in his eyes she eclipses and predominates the whole of her sex. it was not that he felt any emotion akin to love for irene adler. all emotions, and that one particularly, were abhorrent to his cold, precise but admirably balanced mind. he wa\n"
     ]
    }
   ],
   "source": [
    "# an example training dataset\n",
    "text = open('cleaned_text.txt').read().lower()\n",
    "print text[:300]"
   ]
  },
  {
   "cell_type": "markdown",
   "metadata": {
    "slideshow": {
     "slide_type": "fragment"
    }
   },
   "source": [
    "- A text is a sequence of characters $s_{0},s_{1},s_{2},...,s_{P}$"
   ]
  },
  {
   "cell_type": "markdown",
   "metadata": {
    "slideshow": {
     "slide_type": "fragment"
    }
   },
   "source": [
    "- $s_{p}$ is the $p^{th}$ character of the text,  $P$ is the total length of the text "
   ]
  },
  {
   "cell_type": "markdown",
   "metadata": {
    "slideshow": {
     "slide_type": "fragment"
    }
   },
   "source": [
    "- **input:** sequence of $T$ previous characters\n",
    "- **output:** character value in series"
   ]
  },
  {
   "cell_type": "markdown",
   "metadata": {
    "slideshow": {
     "slide_type": "fragment"
    }
   },
   "source": [
    "- this is a **multilass classification problem** - where input/output are ordered sequences"
   ]
  },
  {
   "cell_type": "markdown",
   "metadata": {
    "slideshow": {
     "slide_type": "subslide"
    }
   },
   "source": [
    "# Text generation: data preprocessing "
   ]
  },
  {
   "cell_type": "markdown",
   "metadata": {
    "slideshow": {
     "slide_type": "fragment"
    }
   },
   "source": [
    "-  machine learning algorithm deal with numerical data and all of our input/output pairs are characters"
   ]
  },
  {
   "cell_type": "markdown",
   "metadata": {
    "slideshow": {
     "slide_type": "fragment"
    }
   },
   "source": [
    "- transform our characters into equivalent numerical values via 'one-hot encoding' scheme"
   ]
  },
  {
   "cell_type": "markdown",
   "metadata": {
    "slideshow": {
     "slide_type": "subslide"
    }
   },
   "source": [
    "# Text generation: data preprocessing \n",
    "\n",
    "- transform our characters into equivalent numerical values via **one-hot encoding** scheme"
   ]
  },
  {
   "cell_type": "markdown",
   "metadata": {
    "slideshow": {
     "slide_type": "fragment"
    }
   },
   "source": [
    "- each character mapped to all zero vector except one unique lcoation where we place a 1 "
   ]
  },
  {
   "cell_type": "markdown",
   "metadata": {
    "slideshow": {
     "slide_type": "fragment"
    }
   },
   "source": [
    "$$a\\longleftarrow\\left[\\begin{array}{c}\n",
    "1\\\\\n",
    "0\\\\\n",
    "0\\\\\n",
    "\\vdots\\\\\n",
    "0\\\\\n",
    "0\n",
    "\\end{array}\\right]\\,\\,\\,\\,\\,\\,\\,b\\longleftarrow\\left[\\begin{array}{c}\n",
    "0\\\\\n",
    "1\\\\\n",
    "0\\\\\n",
    "\\vdots\\\\\n",
    "0\\\\\n",
    "0\n",
    "\\end{array}\\right]\\,\\,\\,\\,\\,c\\longleftarrow\\left[\\begin{array}{c}\n",
    "0\\\\\n",
    "0\\\\\n",
    "1\\\\\n",
    "\\vdots\\\\\n",
    "0\\\\\n",
    "0 \n",
    "\\end{array}\\right]\\cdots$$"
   ]
  },
  {
   "cell_type": "markdown",
   "metadata": {
    "slideshow": {
     "slide_type": "subslide"
    }
   },
   "source": [
    "# Training phase - sliding window"
   ]
  },
  {
   "cell_type": "markdown",
   "metadata": {
    "slideshow": {
     "slide_type": "fragment"
    }
   },
   "source": [
    "<p>\n",
    "<img src=\"https://github.com/jermwatt/RNN_demo/blob/dev/images/text_windowing_training.gif?raw=true\" width=1000/>\n",
    "</p>"
   ]
  },
  {
   "cell_type": "markdown",
   "metadata": {
    "slideshow": {
     "slide_type": "fragment"
    }
   },
   "source": [
    "- produce training set by sliding a window over series and collecting input/output pairs to learn on"
   ]
  },
  {
   "cell_type": "markdown",
   "metadata": {
    "slideshow": {
     "slide_type": "fragment"
    }
   },
   "source": [
    "$$\\begin{array}{c|c}\n",
    "\\text{Input} & \\text{Output}\\\\\n",
    "\\hline \\color{CornflowerBlue} {\\left[s_{0},s_{1},s_{2},s_{3}\\right]} & \\color{Goldenrod}{ s_{4}} \\\\\n",
    "\\ \\color{CornflowerBlue} {\\left[s_{1},s_{2},s_{3},s_{4}\\right] } & \\color{Goldenrod} {s_{5} } \\\\\n",
    "\\color{CornflowerBlue}  {\\vdots} & \\color{Goldenrod} {\\vdots}\\\\\n",
    "\\color{CornflowerBlue} { \\left[s_{P-4},s_{P-3},s_{P-2},s_{P-1}\\right] } & \\color{Goldenrod} {s_{P}}\n",
    "\\end{array}$$"
   ]
  },
  {
   "cell_type": "markdown",
   "metadata": {
    "slideshow": {
     "slide_type": "subslide"
    }
   },
   "source": [
    "# Testing phase - sliding window (again!)\n",
    "\n",
    "<p>\n",
    "<img src=\"https://github.com/jermwatt/RNN_demo/blob/dev/images/text_windowing.gif?raw=true\" width=1000/>\n",
    "</p>\n"
   ]
  },
  {
   "cell_type": "markdown",
   "metadata": {
    "slideshow": {
     "slide_type": "fragment"
    }
   },
   "source": [
    "$$\\begin{array}{c|c}\n",
    "\\hline\n",
    "\\text{Input} & \\text{Output}\\\\\n",
    "\\color{CornflowerBlue} { \\left[s_{P-3},s_{P-2},s_{P-1},s_{P}\\right] } & \\color{Red} {\\hat{s}_{P+1}} \\\\\n",
    " \\color{CornflowerBlue} {\\left[s_{P-2},s_{P-1},s_{P},{\\hat{s}_{P+1}}\\right]} & \\color{Red} {\\hat{s}_{P+2}} \\\\\n",
    "\\ \\color{CornflowerBlue} {\\left[s_{P-1},s_{P},{\\hat{s}_{P+1}},{\\hat{s}_{P+2}}\\right] } & \\color{Red} {\\hat{s}_{P+3}}  \\\\\n",
    "\\ \\color{CornflowerBlue} {\\left[s_{P},{\\hat{s}_{P+1}},{\\hat{s}_{P+2}},{\\hat{s}_{P+3}}\\right] } & \\color{Red} {\\hat{s}_{P+4}}  \\\\\n",
    "\\ \\color{CornflowerBlue} {\\left[{\\hat{s}_{P+1}},{\\hat{s}_{P+2}},{\\hat{s}_{P+3}},{\\hat{s}_{P+4}}\\right] } & \\color{Red} {\\hat{s}_{P+5}}  \\\\\n",
    "\\color{CornflowerBlue}  {\\vdots} & \\color{Red} {\\vdots}\\\\\n",
    "\\end{array}$$"
   ]
  },
  {
   "cell_type": "markdown",
   "metadata": {
    "slideshow": {
     "slide_type": "fragment"
    }
   },
   "source": [
    "- when using previously predicted values as input supervised learning is referred to as a **generative model**"
   ]
  },
  {
   "cell_type": "markdown",
   "metadata": {
    "slideshow": {
     "slide_type": "slide"
    }
   },
   "source": [
    "# Recurrent Neural Networks (RNNs)"
   ]
  },
  {
   "cell_type": "markdown",
   "metadata": {
    "slideshow": {
     "slide_type": "subslide"
    }
   },
   "source": [
    "# Recurrent Neural Networks (RNNs)"
   ]
  },
  {
   "cell_type": "markdown",
   "metadata": {
    "slideshow": {
     "slide_type": "fragment"
    }
   },
   "source": [
    "- natural extension of feedforward networks - where both input and output are ordered sequences"
   ]
  },
  {
   "cell_type": "markdown",
   "metadata": {
    "slideshow": {
     "slide_type": "fragment"
    }
   },
   "source": [
    "- one powerful way of dealing with sequence-based supervised learning problems"
   ]
  },
  {
   "cell_type": "markdown",
   "metadata": {
    "slideshow": {
     "slide_type": "subslide"
    }
   },
   "source": [
    "# Architectures: feedforward vs RNN"
   ]
  },
  {
   "cell_type": "markdown",
   "metadata": {
    "slideshow": {
     "slide_type": "subslide"
    }
   },
   "source": [
    "# Architectures: feedforward"
   ]
  },
  {
   "cell_type": "markdown",
   "metadata": {
    "slideshow": {
     "slide_type": "fragment"
    }
   },
   "source": [
    "<p>\n",
    "<img src=\"https://github.com/jermwatt/RNN_demo/blob/dev/images/dnn2rnn.png?raw=true\" width=500 height=500/>\n",
    "</p>"
   ]
  },
  {
   "cell_type": "code",
   "execution_count": null,
   "metadata": {
    "collapsed": true
   },
   "outputs": [],
   "source": [
    "# time series - RNN demo\n",
    "\n",
    "# import custom cutting, fitting, and plotting files\n",
    "import RNN_series_utils as utils\n",
    "\n",
    "# window the data using your windowing function\n",
    "window_size = 7\n",
    "X,y = utils.window_transform_series(series = series,window_size = window_size)\n",
    "\n",
    "# using first 2/3 of series make predictions on final 1/3 using an RNN\n",
    "split_pt = int(np.ceil(2*len(y)/float(3)))\n",
    "plt.plot(series[:split_pt],c = 'k')\n",
    "plt.plot(np.arange(split_pt,len(series)),series[split_pt:],c = 'm')\n",
    "plt.axis('off');\n",
    "\n",
    "utils.RNN_fit_n_predict(X,y,series)"
   ]
  }
 ],
 "metadata": {
  "anaconda-cloud": {},
  "celltoolbar": "Slideshow",
  "kernelspec": {
   "display_name": "Python [conda root]",
   "language": "python",
   "name": "conda-root-py"
  },
  "language_info": {
   "codemirror_mode": {
    "name": "ipython",
    "version": 2
   },
   "file_extension": ".py",
   "mimetype": "text/x-python",
   "name": "python",
   "nbconvert_exporter": "python",
   "pygments_lexer": "ipython2",
   "version": "2.7.12"
  }
 },
 "nbformat": 4,
 "nbformat_minor": 1
}
