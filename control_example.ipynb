{
 "cells": [
  {
   "cell_type": "markdown",
   "metadata": {},
   "source": [
    "# Heater example"
   ]
  },
  {
   "cell_type": "code",
   "execution_count": 3,
   "metadata": {
    "collapsed": true
   },
   "outputs": [],
   "source": [
    "# lets define some recursive sequences\n",
    "import numpy as np\n",
    "import matplotlib.pyplot as plt"
   ]
  },
  {
   "cell_type": "code",
   "execution_count": 4,
   "metadata": {
    "collapsed": false
   },
   "outputs": [],
   "source": [
    "# imports - libraries and RNN settings\n",
    "import numpy as np\n",
    "import matplotlib.pyplot as plt\n",
    "# import keras network libraries\n",
    "from keras.models import Sequential\n",
    "from keras.layers import Dense\n",
    "from keras.layers import LSTM\n",
    "import keras\n",
    "\n",
    "# given - fix random seed - so we can all reproduce the same results on our default time series\n",
    "# np.random.seed(2)\n",
    "\n",
    "# given - build model\n",
    "optimizer = keras.optimizers.RMSprop(lr=0.001, rho=0.9, epsilon=1e-08, decay=0.0)"
   ]
  },
  {
   "cell_type": "code",
   "execution_count": 79,
   "metadata": {
    "collapsed": false
   },
   "outputs": [],
   "source": [
    "# load in data\n",
    "input_sequence = np.loadtxt('datasets/binary_voltage.csv')\n",
    "output_sequence = np.loadtxt('datasets/hidden_voltage.csv')"
   ]
  },
  {
   "cell_type": "code",
   "execution_count": 88,
   "metadata": {
    "collapsed": false
   },
   "outputs": [
    {
     "data": {
      "text/plain": [
       "[<matplotlib.lines.Line2D at 0x7f228400c690>]"
      ]
     },
     "execution_count": 88,
     "metadata": {},
     "output_type": "execute_result"
    },
    {
     "data": {
      "image/png": "[encoded data removed]",
      "text/plain": [
       "<matplotlib.figure.Figure at 0x7f22841717d0>"
      ]
     },
     "metadata": {},
     "output_type": "display_data"
    }
   ],
   "source": [
    "### take subsequences of both, and center\n",
    "# for sub_sequence binarize to +/-1\n",
    "num_pts = 100\n",
    "input_sequence = input_sequence[:num_pts]\n",
    "input_sequence = (input_sequence - np.mean(input_sequence))\n",
    "\n",
    "# u = np.unique(input_sequence)\n",
    "# ind = np.argwhere(input_sequence==u[0])\n",
    "# ind = [s[0] for s in ind]\n",
    "# ind2 = np.argwhere(input_sequence==u[1])\n",
    "# ind2 = [s[0] for s in ind2]\n",
    "# input_sequence[ind] = -1\n",
    "# input_sequence[ind2] = 1\n",
    "# input_sequence.shape = (len(input_sequence),1)\n",
    "\n",
    "# for hidden just normalize - subtract mean and normalize to lie in range [-1,1]\n",
    "output_sequence = output_sequence[:num_pts]\n",
    "output_sequence = (output_sequence - np.mean(output_sequence))\n",
    "# output_sequence = output_sequence/float(np.abs(np.max(output_sequence)))\n",
    "\n",
    "# output_sequence.shape = (len(output_sequence),1)\n",
    "\n",
    "# plot both\n",
    "# plot original and prediction\n",
    "fig = plt.figure(figsize = (13,5))\n",
    "ax = fig.add_subplot(111)\n",
    "ax.scatter(np.arange(len(input_sequence)),input_sequence,c = 'g')\n",
    "ax.plot(output_sequence,c = 'r')"
   ]
  },
  {
   "cell_type": "markdown",
   "metadata": {},
   "source": [
    "## Universal functions for experiments"
   ]
  },
  {
   "cell_type": "code",
   "execution_count": 89,
   "metadata": {
    "collapsed": true
   },
   "outputs": [],
   "source": [
    "def window(input_sequence,output_sequence,window_size):\n",
    "    # containers for input/output pairs\n",
    "    x = []\n",
    "    y = []\n",
    "    \n",
    "    # window data\n",
    "    count = 0\n",
    "    for t in range(len(input_sequence) - window_size):\n",
    "        # get input sequence\n",
    "        temp_in = input_sequence[t:t + window_size]\n",
    "        x.append(temp_in)\n",
    "        \n",
    "        # get corresponding target\n",
    "        temp_target = output_sequence[t + window_size]\n",
    "        y.append(temp_target)\n",
    "        count+=1\n",
    "        \n",
    "    # reshape each \n",
    "    x = np.asarray(x)\n",
    "    x.shape = (np.shape(x)[0:2])\n",
    "    y = np.asarray(y)\n",
    "    y.shape = (len(y),)\n",
    "    \n",
    "    return x,y"
   ]
  },
  {
   "cell_type": "code",
   "execution_count": 103,
   "metadata": {
    "collapsed": false
   },
   "outputs": [],
   "source": [
    "window_size = 12\n",
    "x,y = window(input_sequence,output_sequence,window_size)"
   ]
  },
  {
   "cell_type": "code",
   "execution_count": 104,
   "metadata": {
    "collapsed": true
   },
   "outputs": [],
   "source": [
    "x = np.reshape(x, (x.shape[0], 1, x.shape[1]))"
   ]
  },
  {
   "cell_type": "markdown",
   "metadata": {},
   "source": [
    "## Just markov"
   ]
  },
  {
   "cell_type": "code",
   "execution_count": 105,
   "metadata": {
    "collapsed": false
   },
   "outputs": [],
   "source": [
    "# imports - libraries and RNN settings\n",
    "import numpy as np\n",
    "import matplotlib.pyplot as plt\n",
    "# import keras network libraries\n",
    "from keras.models import Sequential\n",
    "from keras.layers import Dense\n",
    "from keras.layers import LSTM\n",
    "from keras.layers import SimpleRNN\n",
    "from keras.layers import Activation\n",
    "\n",
    "import keras\n",
    "\n",
    "# given - fix random seed - so we can all reproduce the same results on our default time series\n",
    "# np.random.seed(2)\n",
    "\n",
    "# given - build model\n",
    "optimizer = keras.optimizers.RMSprop(lr=0.001, rho=0.9, epsilon=1e-08, decay=0.0)"
   ]
  },
  {
   "cell_type": "code",
   "execution_count": 106,
   "metadata": {
    "collapsed": false
   },
   "outputs": [],
   "source": [
    "# create and fit the LSTM network\n",
    "model = Sequential()\n",
    "\n",
    "model.add(LSTM(1, input_shape=(1, window_size),activation = 'linear'))\n",
    "# model.add(Dense(1,input_dim = window_size, activation='relu'))\n",
    "model.add(Dense(1,activation='linear'))\n",
    "model.compile(loss='mean_squared_error', optimizer=optimizer)"
   ]
  },
  {
   "cell_type": "code",
   "execution_count": 107,
   "metadata": {
    "collapsed": false
   },
   "outputs": [
    {
     "data": {
      "text/plain": [
       "<keras.callbacks.History at 0x7f227dcf2150>"
      ]
     },
     "execution_count": 107,
     "metadata": {},
     "output_type": "execute_result"
    }
   ],
   "source": [
    "# run your model\n",
    "model.fit(x, y, epochs=500, batch_size=24, verbose=0)"
   ]
  },
  {
   "cell_type": "code",
   "execution_count": 108,
   "metadata": {
    "collapsed": false
   },
   "outputs": [
    {
     "data": {
      "text/plain": [
       "<matplotlib.collections.PathCollection at 0x7f227db9b5d0>"
      ]
     },
     "execution_count": 108,
     "metadata": {},
     "output_type": "execute_result"
    },
    {
     "data": {
      "image/png": "[encoded data removed]",
      "text/plain": [
       "<matplotlib.figure.Figure at 0x7f227e34fd90>"
      ]
     },
     "metadata": {},
     "output_type": "display_data"
    }
   ],
   "source": [
    "# generate predictions for training\n",
    "train_predict = model.predict(x)\n",
    "\n",
    "# plot original and prediction\n",
    "fig = plt.figure(figsize = (13,5))\n",
    "ax = fig.add_subplot(111)\n",
    "\n",
    "ax.plot(output_sequence,c = 'r')\n",
    "ax.plot(np.arange(len(train_predict))+window_size,train_predict,c = 'b')\n",
    "ax.scatter(np.arange(len(input_sequence))+1,input_sequence,c = 'g')"
   ]
  },
  {
   "cell_type": "code",
   "execution_count": 102,
   "metadata": {
    "collapsed": false
   },
   "outputs": [
    {
     "data": {
      "text/plain": [
       "array([ 0.578055,  0.592655,  0.631755,  0.729455,  0.936955,  1.000455,\n",
       "        1.144555,  1.256855,  1.317955,  1.378955,  1.493755,  1.396055,\n",
       "        1.022455,  0.636655,  0.204355, -0.157045, -0.413445, -0.574645,\n",
       "       -0.713745, -0.855445, -0.906745, -0.772445, -0.606345, -0.562345,\n",
       "       -0.413445, -0.071545,  0.280055,  0.658655,  0.919955,  0.849055,\n",
       "        0.702555,  0.336255,  0.026155, -0.203445, -0.379245, -0.550145,\n",
       "       -0.694245, -0.762645, -0.848145, -0.882245, -0.945745, -0.970245,\n",
       "       -1.065445, -1.126445, -1.199745, -1.224145, -1.199745, -1.197345,\n",
       "       -1.150945, -0.967745, -0.557545, -0.103245,  0.067655,  0.006555,\n",
       "       -0.181445, -0.374345, -0.567245, -0.694245, -0.633245, -0.503745,\n",
       "       -0.469545, -0.577045, -0.699145, -0.813945, -0.708945, -0.332845,\n",
       "        0.055455,  0.389955,  0.629355,  0.878355,  1.061555,  1.247155,\n",
       "        1.354555,  1.374155,  1.239855,  0.866155,  0.455955,  0.133555,\n",
       "       -0.240045, -0.535545, -0.716245, -0.801745, -0.855445, -0.706445,\n",
       "       -0.391445, -0.012945,  0.204355,  0.133555, -0.030045, -0.244945,\n",
       "       -0.227845,  0.006555,  0.289855,  0.536555,  0.875955,  1.142155,\n",
       "        1.256855])"
      ]
     },
     "execution_count": 102,
     "metadata": {},
     "output_type": "execute_result"
    }
   ],
   "source": [
    "y"
   ]
  }
 ],
 "metadata": {
  "kernelspec": {
   "display_name": "Python 2",
   "language": "python",
   "name": "python2"
  },
  "language_info": {
   "codemirror_mode": {
    "name": "ipython",
    "version": 2
   },
   "file_extension": ".py",
   "mimetype": "text/x-python",
   "name": "python",
   "nbconvert_exporter": "python",
   "pygments_lexer": "ipython2",
   "version": "2.7.12"
  }
 },
 "nbformat": 4,
 "nbformat_minor": 0
}
