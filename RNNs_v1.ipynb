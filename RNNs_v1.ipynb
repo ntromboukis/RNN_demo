{
 "cells": [
  {
   "cell_type": "markdown",
   "metadata": {},
   "source": [
    "#  Recurrent Neural Networks - overview\n",
    "\n",
    "With supervised learning - regression and classification - we aim to learn the pattern between a set of fixed size input and ouptput data points.  For example, with object detection (a classification problem) we can use a classification algorithm to learn a model that distinguishes between image patches containing an object of interest (e.g., human face) and all those *not* containing this object.  This classification problem is shown figuratively in the image below (used with permission from [[1]](#bib_cell).\n",
    "\n",
    "<img src=\"images/wright_bros_face_detect.png\" width=600 height=600/>\n",
    "\n",
    "Note one key aspect of this sort of problem we can solve with supervised learning: *the dimension of the inputs / outputs must always be the same length.*  With object detection the inputs - image patches - are all the same size e.g., a 64 x 64 grid of pixels and the outputs - labels - are integer valued scalars.  An example of a small image patch showing the value of each pixel (taken from [[2]](#bib_cell)) is shown below.\n",
    "\n",
    "<img src=\"images/sample_grid_a_square.png\" width=400 height=400/>\n",
    "\n",
    "But not all pattern recognition problems satisfy this condition.  For example a program that translates sentences from English to Spanish (or from any one language to another language) does not (this task is callled *Machine Translation*).  For example, say we wanted to train a model to automatically translate English to Spanish Sentences using the following set of two sentences\n",
    "\n",
    "| English translation    | Spanish translation          |\n",
    "| ------------- |:-------------:| \n",
    "| My dog is an angel from heaven.     | Mi perro es un ángel del cielo. | \n",
    "|All cats work for the devil.    | Todos los gatos trabajan para el diablo.     | \n",
    "\n",
    "Measuring some basic statistics for these input / output datapoints we can see that their dimensions are not consistent.\n",
    "\n",
    "- **first sentence:** english input - 7 words, 31 characters, spanish output - 7 words 32 characters\n",
    "\n",
    "\n",
    "- **second sentence:** english input - 6 words, 29 characters, spanish output - 7 words, 40 characters\n",
    "\n",
    "\n",
    "Because of these inconsistencies, if we want to learn a relationship from data (many many English / Spanish sentence pairs) we need a more flexible machine learning model.  \n",
    "\n",
    "Enter Recurrent Neural Networks (RNNs).  RNNs offer a more flexible input / output pattern recognition system for solving just this sort of problem."
   ]
  },
  {
   "cell_type": "code",
   "execution_count": null,
   "metadata": {
    "collapsed": true
   },
   "outputs": [],
   "source": []
  },
  {
   "cell_type": "code",
   "execution_count": null,
   "metadata": {
    "collapsed": true
   },
   "outputs": [],
   "source": []
  },
  {
   "cell_type": "code",
   "execution_count": null,
   "metadata": {
    "collapsed": true
   },
   "outputs": [],
   "source": []
  },
  {
   "cell_type": "markdown",
   "metadata": {},
   "source": [
    "<a id='bib_cell'></a>\n",
    "\n",
    "## Bibliography\n",
    "\n",
    "[1] Watt, Jeremy et al. [Machine Learning Refined](www.mlrefined.com). Cambridge University Press, 2016\n",
    "\n",
    "[2] Image taken from http://pippin.gimp.org/image_processing/chap_dir.html"
   ]
  }
 ],
 "metadata": {
  "kernelspec": {
   "display_name": "Python 2",
   "language": "python",
   "name": "python2"
  },
  "language_info": {
   "codemirror_mode": {
    "name": "ipython",
    "version": 2
   },
   "file_extension": ".py",
   "mimetype": "text/x-python",
   "name": "python",
   "nbconvert_exporter": "python",
   "pygments_lexer": "ipython2",
   "version": "2.7.12"
  }
 },
 "nbformat": 4,
 "nbformat_minor": 0
}
